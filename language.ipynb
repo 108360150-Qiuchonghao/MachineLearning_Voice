{
 "cells": [
  {
   "cell_type": "code",
   "execution_count": 16,
   "id": "a9696603",
   "metadata": {},
   "outputs": [],
   "source": [
    "\n",
    "import csv\n",
    "with open(\"/home/qiu/study_college/machine_learning/language/machine-learningntut-2021-autumn-asr/ML@NTUT-2021-Autumn-ASR/train-toneless_update.csv\") as csvfile:\n",
    "    rows = csv.reader(csvfile)\n",
    "    for row in rows:\n",
    "        a = row[0]\n",
    "        b = row[1]\n",
    "        f = open(\"/home/qiu/study_college/machine_learning/language/machine-learningntut-2021-autumn-asr/ML@NTUT-2021-Autumn-ASR/train/txt/\"+a+'.txt','w')\n",
    "        f.write(b)\n",
    "        f.close()\n"
   ]
  },
  {
   "cell_type": "code",
   "execution_count": 1,
   "id": "14569c7c",
   "metadata": {},
   "outputs": [
    {
     "name": "stderr",
     "output_type": "stream",
     "text": [
      "2022-01-18 05:30:24.590075: W tensorflow/stream_executor/platform/default/dso_loader.cc:64] Could not load dynamic library 'libcudart.so.11.0'; dlerror: libcudart.so.11.0: cannot open shared object file: No such file or directory\n",
      "2022-01-18 05:30:24.590095: I tensorflow/stream_executor/cuda/cudart_stub.cc:29] Ignore above cudart dlerror if you do not have a GPU set up on your machine.\n"
     ]
    }
   ],
   "source": [
    "# -*- coding: utf-8 -*-\n",
    "\n",
    "from keras.models import Model\n",
    "from keras.layers import Input, Activation, Conv1D, Lambda, Add, Multiply, BatchNormalization\n",
    "from tensorflow.keras.optimizers import Adam, SGD\n",
    "from keras import backend as K\n",
    "from keras.callbacks import ModelCheckpoint, ReduceLROnPlateau\n",
    "\n",
    "import numpy as np\n",
    "import matplotlib.pyplot as plt\n",
    "from mpl_toolkits.axes_grid1 import make_axes_locatable\n",
    "%matplotlib inline\n",
    "import random\n",
    "import pickle\n",
    "import glob\n",
    "from tqdm import tqdm\n",
    "import os\n",
    "\n",
    "from python_speech_features import mfcc\n",
    "import scipy.io.wavfile as wav\n",
    "import librosa\n",
    "from IPython.display import Audio\n"
   ]
  },
  {
   "cell_type": "code",
   "execution_count": 2,
   "id": "664dd538",
   "metadata": {},
   "outputs": [],
   "source": [
    "def get_wav_files(wav_path):\n",
    "    wav_files = []\n",
    "    for (dirpath, dirnames, filenames) in os.walk(wav_path):\n",
    "        for filename in filenames:\n",
    "            if filename.endswith(\".wav\") or filename.endswith(\".WAV\"):\n",
    "                filename_path = os.path.join(dirpath, filename)\n",
    "                wav_files.append(filename_path)\n",
    "    return wav_files    \n",
    "\n",
    "def get_tran_texts(wav_files, tran_path):\n",
    "    tran_texts = []\n",
    "    for wav_file in wav_files:\n",
    "        basename = os.path.basename(wav_file)\n",
    "        x = os.path.splitext(basename)[0]\n",
    "        tran_file = os.path.join(tran_path,x+ '.txt') \n",
    "        if os.path.exists(tran_file) is False:\n",
    "            return None\n",
    "        fd = open(tran_file, 'r')\n",
    "        text = fd.readline()\n",
    "        tran_texts.append(text.split('\\n')[0])\n",
    "        fd.close()\n",
    "    return tran_texts  "
   ]
  },
  {
   "cell_type": "code",
   "execution_count": 3,
   "id": "f4ba1021",
   "metadata": {},
   "outputs": [
    {
     "name": "stdout",
     "output_type": "stream",
     "text": [
      "3120\n",
      "['tsu lang tsit e ka sing ti su kak hue a tui tsia e ku tshu pinn tsiann khuann bo tsiunn bak']\n"
     ]
    }
   ],
   "source": [
    "tran_path = \"/home/qiu/study_college/machine_learning/language/machine-learningntut-2021-autumn-asr/ML@NTUT-2021-Autumn-ASR/train/txt\"\n",
    "wav_files=get_wav_files('/home/qiu/study_college/machine_learning/language/machine-learningntut-2021-autumn-asr/ML@NTUT-2021-Autumn-ASR/')\n",
    "text_paths = glob.glob(\"/home/qiu/study_college/machine_learning/language/machine-learningntut-2021-autumn-asr/ML@NTUT-2021-Autumn-ASR/train/txt/*.txt\")\n",
    "\n",
    "total = len(text_paths)\n",
    "print(total)\n",
    "\n",
    "with open(text_paths[0], 'r', encoding='utf8') as fr:\n",
    "    lines = fr.readlines()\n",
    "    print(lines)\n",
    "\n",
    "\n",
    "\n",
    "\n"
   ]
  },
  {
   "cell_type": "code",
   "execution_count": 4,
   "id": "915b908d",
   "metadata": {},
   "outputs": [
    {
     "name": "stdout",
     "output_type": "stream",
     "text": [
      "/home/qiu/study_college/machine_learning/language/machine-learningntut-2021-autumn-asr/ML@NTUT-2021-Autumn-ASR/train/txt/607\n",
      "tsulangtsitekasingtisukakhueatuitsiaekutshupinntsiannkhuannbotsiunnbak\n"
     ]
    }
   ],
   "source": [
    "texts = []\n",
    "paths = []\n",
    "for path in text_paths:\n",
    "    with open(path, 'r', encoding='utf8') as fr:\n",
    "        lines = fr.readlines()\n",
    "        line = lines[0].strip('\\n').replace(' ', '')\n",
    "        texts.append(line)\n",
    "        paths.append(path.rstrip('.txt'))\n",
    "\n",
    "print(paths[0])\n",
    "print(texts[0])"
   ]
  },
  {
   "cell_type": "code",
   "execution_count": 5,
   "id": "a72258e5",
   "metadata": {},
   "outputs": [],
   "source": [
    "mfcc_dim =13\n",
    "\n",
    "def load_and_trim(path):\n",
    "    audio, sr =librosa.load(path)\n",
    "    energy = librosa.feature.rms(audio)\n",
    "    frames = np.nonzero(energy >= np.max(energy) /5)\n",
    "    indices = librosa.core.frames_to_samples(frames)[1]\n",
    "    audio = audio[indices[0]:indices[-1]] if indices.size else audio[0:0]\n",
    "    return audio,sr\n",
    "\n"
   ]
  },
  {
   "cell_type": "code",
   "execution_count": 6,
   "id": "a5691de3",
   "metadata": {
    "scrolled": true
   },
   "outputs": [
    {
     "name": "stderr",
     "output_type": "stream",
     "text": [
      "100%|███████████████████████████████████████| 3465/3465 [00:36<00:00, 93.76it/s]\n"
     ]
    }
   ],
   "source": [
    "features = []\n",
    "for i in tqdm(range(len(wav_files))):\n",
    "              path = wav_files[i]\n",
    "              audio, sr = load_and_trim(path)\n",
    "              features.append(mfcc(audio, sr, numcep = mfcc_dim, nfft = 551))        "
   ]
  },
  {
   "cell_type": "code",
   "execution_count": 7,
   "id": "047d8d0e",
   "metadata": {},
   "outputs": [
    {
     "name": "stdout",
     "output_type": "stream",
     "text": [
      "3465 (268, 13)\n",
      "[ -5.99367404  -4.70104057  -4.61942964  -0.55295771  -2.69897968\n",
      " -13.95263008   3.90004593 -10.39611293  -6.81300948  -6.06156385\n",
      " -12.73426962 -10.37628469  -6.82708139]\n",
      "[ 3.78717529 16.19135454 19.25296034 19.22915484 16.13392409 17.92319379\n",
      " 14.52328862 15.17966811 14.80145203 13.52810032 13.73646184 12.1131891\n",
      " 12.16730728]\n"
     ]
    }
   ],
   "source": [
    "import random\n",
    "print(len(features), features[0].shape)\n",
    "\n",
    "samples = random.sample(features, 100)\n",
    "samples = np.vstack(samples)\n",
    "\n",
    "mfcc_mean = np.mean(samples, axis=0)\n",
    "mfcc_std = np.std(samples, axis=0)\n",
    "print(mfcc_mean)\n",
    "print(mfcc_std)\n",
    "\n",
    "features = [(feature - mfcc_mean) / (mfcc_std + 1e-14) for feature in features]\n",
    "\n"
   ]
  },
  {
   "cell_type": "code",
   "execution_count": 8,
   "id": "ef015e16",
   "metadata": {},
   "outputs": [
    {
     "name": "stdout",
     "output_type": "stream",
     "text": [
      "53 [' ', 'i', 'a', 'n', 't', 'h', 's', 'u', 'o', 'k', 'g', 'e', 'l', 'p', 'b', 'm', 'j', 'r', 'B', 'S', 'C', 'd', 'P', 'c', 'I', 'R', 'y', 'f', 'A', 'N', 'D', 'T', 'O', 'F', 'V', 'G', 'w', 'M', 'v', 'W', 'x', 'U', 'E', 'J', 'H', 'Y', 'z', 'q', 'L', 'Z', 'X', 'K', 'Q']\n"
     ]
    }
   ],
   "source": [
    "texts= get_tran_texts(wav_files, tran_path)\n",
    "chars = {}\n",
    "\n",
    "for text in texts:\n",
    "    for c in text:\n",
    "        chars[c] = chars.get(c, 0) + 1\n",
    "\n",
    "chars = sorted(chars.items(), key=lambda x: x[1], reverse=True)\n",
    "chars = [char[0] for char in chars]\n",
    "print(len(chars), chars[:100])\n",
    "\n",
    "char2id = {c: i for i, c in enumerate(chars)}\n",
    "id2char = {i: c for i, c in enumerate(chars)}\n",
    "\n"
   ]
  },
  {
   "cell_type": "code",
   "execution_count": 9,
   "id": "d5be1dec",
   "metadata": {},
   "outputs": [],
   "source": [
    "data_index = np.arange(total)\n",
    "np.random.shuffle(data_index)\n",
    "train_size = int(0.9 * total)\n",
    "test_size = total - train_size\n",
    "train_index = data_index[:train_size]\n",
    "test_index = data_index[train_size:]\n",
    "\n",
    "X_train = [features[i] for i in train_index]\n",
    "Y_train = [texts[i] for i in train_index]\n",
    "X_test = [features[i] for i in test_index]\n",
    "Y_test = [texts[i] for i in test_index]\n",
    "\n",
    "batch_size = 16\n",
    "    \n",
    "def batch_generator(x, y, batch_size=batch_size):  \n",
    "    offset = 0\n",
    "    while True:\n",
    "        offset += batch_size\n",
    "        \n",
    "        if offset == batch_size or offset >= len(x):\n",
    "            data_index = np.arange(len(x))\n",
    "            np.random.shuffle(data_index)\n",
    "            x = [x[i] for i in data_index]\n",
    "            y = [y[i] for i in data_index]\n",
    "            offset = batch_size\n",
    "            \n",
    "        X_data = x[offset - batch_size: offset]\n",
    "        Y_data = y[offset - batch_size: offset]\n",
    "        \n",
    "        X_maxlen = max([X_data[i].shape[0] for i in range(batch_size)])\n",
    "        Y_maxlen = max([len(Y_data[i]) for i in range(batch_size)])\n",
    "        \n",
    "        X_batch = np.zeros([batch_size, X_maxlen, mfcc_dim])\n",
    "        Y_batch = np.ones([batch_size, Y_maxlen]) * len(char2id)\n",
    "        X_length = np.zeros([batch_size, 1], dtype='int32')\n",
    "        Y_length = np.zeros([batch_size, 1], dtype='int32')\n",
    "        \n",
    "        for i in range(batch_size):\n",
    "            X_length[i, 0] = X_data[i].shape[0]\n",
    "            X_batch[i, :X_length[i, 0], :] = X_data[i]\n",
    "            \n",
    "            Y_length[i, 0] = len(Y_data[i])\n",
    "            Y_batch[i, :Y_length[i, 0]] = [char2id[c] for c in Y_data[i]]\n",
    "        \n",
    "        inputs = {'X': X_batch, 'Y': Y_batch, 'X_length': X_length, 'Y_length': Y_length}\n",
    "        outputs = {'ctc': np.zeros([batch_size])}\n",
    "        \n",
    "        yield (inputs, outputs)\n"
   ]
  },
  {
   "cell_type": "code",
   "execution_count": 18,
   "id": "69e61f56",
   "metadata": {
    "scrolled": false
   },
   "outputs": [
    {
     "name": "stderr",
     "output_type": "stream",
     "text": [
      "/tmp/ipykernel_4919/3017821005.py:52: UserWarning: `Model.fit_generator` is deprecated and will be removed in a future version. Please use `Model.fit`, which supports generators.\n",
      "  history = model.fit_generator(\n"
     ]
    },
    {
     "name": "stdout",
     "output_type": "stream",
     "text": [
      "Epoch 1/40\n",
      "175/175 [==============================] - 581s 3s/step - loss: 113.8458 - val_loss: 110.0628 - lr: 0.0200\n",
      "Epoch 2/40\n",
      "175/175 [==============================] - 544s 3s/step - loss: 42.9775 - val_loss: 98.7270 - lr: 0.0200\n",
      "Epoch 3/40\n",
      "175/175 [==============================] - 522s 3s/step - loss: 35.0064 - val_loss: 62.9758 - lr: 0.0200\n",
      "Epoch 4/40\n",
      "175/175 [==============================] - 525s 3s/step - loss: 30.7669 - val_loss: 68.8978 - lr: 0.0200\n",
      "Epoch 5/40\n",
      "175/175 [==============================] - 533s 3s/step - loss: 27.5321 - val_loss: 70.3125 - lr: 0.0200\n",
      "Epoch 6/40\n",
      "175/175 [==============================] - 537s 3s/step - loss: 24.4659 - val_loss: 47.1774 - lr: 0.0200\n",
      "Epoch 7/40\n",
      "175/175 [==============================] - 526s 3s/step - loss: 21.5801 - val_loss: 75.4689 - lr: 0.0200\n",
      "Epoch 8/40\n",
      "175/175 [==============================] - 513s 3s/step - loss: 19.6672 - val_loss: 40.2590 - lr: 0.0200\n",
      "Epoch 9/40\n",
      "175/175 [==============================] - 510s 3s/step - loss: 17.4016 - val_loss: 68.1244 - lr: 0.0200\n",
      "Epoch 10/40\n",
      "175/175 [==============================] - 508s 3s/step - loss: 15.6193 - val_loss: 61.2207 - lr: 0.0200\n",
      "Epoch 11/40\n",
      "175/175 [==============================] - 530s 3s/step - loss: 14.4465 - val_loss: 49.2369 - lr: 0.0200\n",
      "Epoch 12/40\n",
      "175/175 [==============================] - 518s 3s/step - loss: 12.4960 - val_loss: 71.2628 - lr: 0.0200\n",
      "Epoch 13/40\n",
      "175/175 [==============================] - 515s 3s/step - loss: 11.1060 - val_loss: 69.0422 - lr: 0.0200\n",
      "Epoch 14/40\n",
      "175/175 [==============================] - 521s 3s/step - loss: 9.8895 - val_loss: 71.0438 - lr: 0.0200\n",
      "Epoch 15/40\n",
      "175/175 [==============================] - 528s 3s/step - loss: 8.6660 - val_loss: 45.6243 - lr: 0.0200\n",
      "Epoch 16/40\n",
      "175/175 [==============================] - 524s 3s/step - loss: 7.5187 - val_loss: 92.8535 - lr: 0.0200\n",
      "Epoch 17/40\n",
      "175/175 [==============================] - 543s 3s/step - loss: 6.6928 - val_loss: 76.5864 - lr: 0.0200\n",
      "Epoch 18/40\n",
      "175/175 [==============================] - 490s 3s/step - loss: 5.4078 - val_loss: 64.3447 - lr: 0.0200\n",
      "Epoch 19/40\n",
      "175/175 [==============================] - 500s 3s/step - loss: 4.7378 - val_loss: 73.0809 - lr: 0.0200\n",
      "Epoch 20/40\n",
      "175/175 [==============================] - 511s 3s/step - loss: 4.4895 - val_loss: 71.8972 - lr: 0.0200\n",
      "Epoch 21/40\n",
      "175/175 [==============================] - 503s 3s/step - loss: 4.2126 - val_loss: 75.0412 - lr: 0.0200\n",
      "Epoch 22/40\n",
      "175/175 [==============================] - 514s 3s/step - loss: 3.7867 - val_loss: 75.8258 - lr: 0.0200\n",
      "Epoch 23/40\n",
      "175/175 [==============================] - 526s 3s/step - loss: 3.7815 - val_loss: 80.7986 - lr: 0.0200\n",
      "Epoch 24/40\n",
      "175/175 [==============================] - 525s 3s/step - loss: 3.1608 - val_loss: 81.9068 - lr: 0.0200\n",
      "Epoch 25/40\n",
      "175/175 [==============================] - 507s 3s/step - loss: 2.5250 - val_loss: 92.6300 - lr: 0.0200\n",
      "Epoch 26/40\n",
      "175/175 [==============================] - 499s 3s/step - loss: 2.5132 - val_loss: 77.0656 - lr: 0.0200\n",
      "Epoch 27/40\n",
      "175/175 [==============================] - 516s 3s/step - loss: 2.2110 - val_loss: 88.7124 - lr: 0.0200\n",
      "Epoch 28/40\n",
      "175/175 [==============================] - 509s 3s/step - loss: 2.3465 - val_loss: 103.2612 - lr: 0.0200\n",
      "Epoch 29/40\n",
      "175/175 [==============================] - 527s 3s/step - loss: 1.2190 - val_loss: 53.8059 - lr: 0.0040\n",
      "Epoch 30/40\n",
      "175/175 [==============================] - 516s 3s/step - loss: 0.3971 - val_loss: 79.0480 - lr: 0.0040\n",
      "Epoch 31/40\n",
      "175/175 [==============================] - 511s 3s/step - loss: 0.2880 - val_loss: 80.4476 - lr: 0.0040\n",
      "Epoch 32/40\n",
      "175/175 [==============================] - 508s 3s/step - loss: 0.2215 - val_loss: 65.4633 - lr: 0.0040\n",
      "Epoch 33/40\n",
      "175/175 [==============================] - 515s 3s/step - loss: 0.1889 - val_loss: 91.6461 - lr: 0.0040\n",
      "Epoch 34/40\n",
      "175/175 [==============================] - 502s 3s/step - loss: 0.1819 - val_loss: 90.4312 - lr: 0.0040\n",
      "Epoch 35/40\n",
      "175/175 [==============================] - 502s 3s/step - loss: 0.1620 - val_loss: 82.2552 - lr: 0.0040\n",
      "Epoch 36/40\n",
      "175/175 [==============================] - 504s 3s/step - loss: 0.1432 - val_loss: 54.9241 - lr: 0.0040\n",
      "Epoch 37/40\n",
      "175/175 [==============================] - 529s 3s/step - loss: 0.1373 - val_loss: 100.3051 - lr: 0.0040\n",
      "Epoch 38/40\n",
      "175/175 [==============================] - 511s 3s/step - loss: 0.1350 - val_loss: 73.0656 - lr: 0.0040\n",
      "Epoch 39/40\n",
      "175/175 [==============================] - 510s 3s/step - loss: 0.1422 - val_loss: 83.6246 - lr: 0.0040\n",
      "Epoch 40/40\n",
      "175/175 [==============================] - 506s 3s/step - loss: 0.1126 - val_loss: 83.7807 - lr: 8.0000e-04\n",
      "WARNING:tensorflow:Compiled the loaded model, but the compiled metrics have yet to be built. `model.compile_metrics` will be empty until you train or evaluate the model.\n"
     ]
    }
   ],
   "source": [
    "epochs = 40\n",
    "num_blocks = 3\n",
    "filters = 128\n",
    "\n",
    "X = Input(shape=(None, mfcc_dim,), dtype='float32', name='X')\n",
    "Y = Input(shape=(None,), dtype='float32', name='Y')\n",
    "X_length = Input(shape=(1,), dtype='int32', name='X_length')\n",
    "Y_length = Input(shape=(1,), dtype='int32', name='Y_length')\n",
    "\n",
    "def conv1d(inputs, filters, kernel_size, dilation_rate):\n",
    "    return Conv1D(filters=filters, kernel_size=kernel_size, strides=1, padding='causal', activation=None, dilation_rate=dilation_rate)(inputs)\n",
    "\n",
    "def batchnorm(inputs):\n",
    "    return BatchNormalization()(inputs)\n",
    "\n",
    "def activation(inputs, activation):\n",
    "    return Activation(activation)(inputs)\n",
    "\n",
    "def res_block(inputs, filters, kernel_size, dilation_rate):\n",
    "    hf = activation(batchnorm(conv1d(inputs, filters, kernel_size, dilation_rate)), 'tanh')\n",
    "    hg = activation(batchnorm(conv1d(inputs, filters, kernel_size, dilation_rate)), 'sigmoid')\n",
    "    h0 = Multiply()([hf, hg])\n",
    "    \n",
    "    ha = activation(batchnorm(conv1d(h0, filters, 1, 1)), 'tanh')\n",
    "    hs = activation(batchnorm(conv1d(h0, filters, 1, 1)), 'tanh')\n",
    "    return Add()([ha, inputs]), hs\n",
    "\n",
    "h0 = activation(batchnorm(conv1d(X, filters, 1, 1)), 'tanh')\n",
    "shortcut = []\n",
    "for i in range(num_blocks):\n",
    "    for r in [1, 2, 4, 8, 16]:\n",
    "        h0, s = res_block(h0, filters, 7, r)\n",
    "        shortcut.append(s)\n",
    "\n",
    "h1 = activation(Add()(shortcut), 'relu')\n",
    "h1 = activation(batchnorm(conv1d(h1, filters, 1, 1)), 'relu')\n",
    "Y_pred = activation(batchnorm(conv1d(h1, len(char2id) + 1, 1, 1)), 'softmax')\n",
    "sub_model = Model(inputs=X, outputs=Y_pred)\n",
    "\n",
    "def calc_ctc_loss(args):\n",
    "    y, yp, ypl, yl = args\n",
    "    return K.ctc_batch_cost(y, yp, ypl, yl)\n",
    "\n",
    "ctc_loss = Lambda(calc_ctc_loss, output_shape=(1,), name='ctc')([Y, Y_pred, X_length, Y_length])\n",
    "model = Model(inputs=[X, Y, X_length, Y_length], outputs=ctc_loss)\n",
    "optimizer = SGD(lr=0.02, momentum=0.9, nesterov=True, clipnorm=5)\n",
    "model.compile(loss={'ctc': lambda ctc_true, ctc_pred: ctc_pred}, optimizer=optimizer)\n",
    "\n",
    "checkpointer = ModelCheckpoint(filepath='allen40.h5', verbose=0)\n",
    "lr_decay = ReduceLROnPlateau(monitor='loss', factor=0.2, patience=1, min_lr=0.000)\n",
    "\n",
    "history = model.fit_generator(\n",
    "    generator=batch_generator(X_train, Y_train), \n",
    "    steps_per_epoch=len(X_train) // batch_size,\n",
    "    epochs=epochs, \n",
    "    validation_data=batch_generator(X_test, Y_test), \n",
    "    validation_steps=len(X_test) // batch_size, \n",
    "    callbacks=[checkpointer, lr_decay])\n",
    "sub_model.save('allen40.h5')\n"
   ]
  },
  {
   "cell_type": "code",
   "execution_count": 19,
   "id": "eed9a70b",
   "metadata": {},
   "outputs": [
    {
     "data": {
      "image/png": "[encoded data removed]",
      "text/plain": [
       "<Figure size 432x288 with 1 Axes>"
      ]
     },
     "metadata": {
      "needs_background": "light"
     },
     "output_type": "display_data"
    }
   ],
   "source": [
    "with open('dictionary.pkl', 'wb') as fw:\n",
    "    pickle.dump([char2id, id2char, mfcc_mean, mfcc_std], fw)\n",
    "    \n",
    "train_loss = history.history['loss']\n",
    "valid_loss = history.history['val_loss']\n",
    "plt.plot(np.linspace(1, epochs, epochs), train_loss, label='train')\n",
    "plt.plot(np.linspace(1, epochs, epochs), valid_loss, label='valid')\n",
    "plt.legend(loc='upper right')\n",
    "plt.xlabel('Epoch')\n",
    "plt.ylabel('Loss')\n",
    "plt.show()\n",
    "\n",
    "  "
   ]
  },
  {
   "cell_type": "code",
   "execution_count": 21,
   "id": "f5e9885d",
   "metadata": {},
   "outputs": [],
   "source": [
    "# -*- coding: utf-8 -*-\n",
    "\n",
    "from keras.models import load_model\n",
    "from keras import backend as K\n",
    "import numpy as np\n",
    "import librosa\n",
    "from python_speech_features import mfcc\n",
    "import pickle\n",
    "import glob\n",
    "\n",
    "wavs = glob.glob('/home/qiu/study_college/machine_learning/language/machine-learningntut-2021-autumn-asr/ML@NTUT-2021-Autumn-ASR/test-shuf/*.wav')\n",
    "with open('dictionary.pkl', 'rb') as fr:\n",
    "    [char2id, id2char, mfcc_mean, mfcc_std] = pickle.load(fr)\n",
    "\n",
    "mfcc_dim = 13\n",
    "model = load_model('allen40.h5', compile=False)\n",
    "\n",
    "with open('predict41.csv','w') as f:\n",
    "    f.write('id,text\\n')\n",
    "    for j in range(1,347):\n",
    "        path1=['/home/qiu/study_college/machine_learning/language/machine-learningntut-2021-autumn-asr/ML@NTUT-2021-Autumn-ASR/test-shuf/',str(j),'.wav']\n",
    "        path=''.join(path1)\n",
    "        #print(path)\n",
    "        audio, sr=load_and_trim(path)\n",
    "        X_data = mfcc(audio, sr, numcep=mfcc_dim, nfft=551)\n",
    "        X_data = (X_data - mfcc_mean) / (mfcc_std + 1e-14)\n",
    "        #print(X_data.shape)\n",
    "\n",
    "        pred = model.predict(np.expand_dims(X_data, axis=0))\n",
    "        pred_ids = K.eval(K.ctc_decode(pred, [X_data.shape[0]], greedy=False, beam_width=10, top_paths=1)[0][0])\n",
    "        pred_ids = pred_ids.flatten().tolist()\n",
    "        while -1 in pred_ids:\n",
    "            pred_ids.remove(-1)\n",
    "        #print(''.join([id2char[i] for i in pred_ids]))\n",
    "        f.write(str(j) +  ',' + (''.join([id2char[i] for i in pred_ids])) + '\\n')"
   ]
  },
  {
   "cell_type": "code",
   "execution_count": null,
   "id": "2061369c",
   "metadata": {},
   "outputs": [],
   "source": []
  }
 ],
 "metadata": {
  "kernelspec": {
   "display_name": "Python 3 (ipykernel)",
   "language": "python",
   "name": "python3"
  },
  "language_info": {
   "codemirror_mode": {
    "name": "ipython",
    "version": 3
   },
   "file_extension": ".py",
   "mimetype": "text/x-python",
   "name": "python",
   "nbconvert_exporter": "python",
   "pygments_lexer": "ipython3",
   "version": "3.8.10"
  }
 },
 "nbformat": 4,
 "nbformat_minor": 5
}
