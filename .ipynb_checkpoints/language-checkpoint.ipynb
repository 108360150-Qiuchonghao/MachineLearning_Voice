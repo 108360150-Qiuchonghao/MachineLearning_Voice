{
 "cells": [
  {
   "cell_type": "code",
   "execution_count": 16,
   "id": "a9696603",
   "metadata": {},
   "outputs": [],
   "source": [
    "\n",
    "import csv\n",
    "with open(\"/home/qiu/study_college/machine_learning/language/machine-learningntut-2021-autumn-asr/ML@NTUT-2021-Autumn-ASR/train-toneless_update.csv\") as csvfile:\n",
    "    rows = csv.reader(csvfile)\n",
    "    for row in rows:\n",
    "        a = row[0]\n",
    "        b = row[1]\n",
    "        f = open(\"/home/qiu/study_college/machine_learning/language/machine-learningntut-2021-autumn-asr/ML@NTUT-2021-Autumn-ASR/train/txt/\"+a+'.txt','w')\n",
    "        f.write(b)\n",
    "        f.close()\n"
   ]
  },
  {
   "cell_type": "code",
   "execution_count": 1,
   "id": "14569c7c",
   "metadata": {},
   "outputs": [
    {
     "name": "stderr",
     "output_type": "stream",
     "text": [
      "2022-01-16 09:23:26.308178: W tensorflow/stream_executor/platform/default/dso_loader.cc:64] Could not load dynamic library 'libcudart.so.11.0'; dlerror: libcudart.so.11.0: cannot open shared object file: No such file or directory\n",
      "2022-01-16 09:23:26.308201: I tensorflow/stream_executor/cuda/cudart_stub.cc:29] Ignore above cudart dlerror if you do not have a GPU set up on your machine.\n"
     ]
    }
   ],
   "source": [
    "# -*- coding: utf-8 -*-\n",
    "\n",
    "from keras.models import Model\n",
    "from keras.layers import Input, Activation, Conv1D, Lambda, Add, Multiply, BatchNormalization\n",
    "from tensorflow.keras.optimizers import Adam, SGD\n",
    "from keras import backend as K\n",
    "from keras.callbacks import ModelCheckpoint, ReduceLROnPlateau\n",
    "\n",
    "import numpy as np\n",
    "import matplotlib.pyplot as plt\n",
    "from mpl_toolkits.axes_grid1 import make_axes_locatable\n",
    "%matplotlib inline\n",
    "import random\n",
    "import pickle\n",
    "import glob\n",
    "from tqdm import tqdm\n",
    "import os\n",
    "\n",
    "from python_speech_features import mfcc\n",
    "import scipy.io.wavfile as wav\n",
    "import librosa\n",
    "from IPython.display import Audio\n"
   ]
  },
  {
   "cell_type": "code",
   "execution_count": 2,
   "id": "664dd538",
   "metadata": {},
   "outputs": [],
   "source": [
    "def get_wav_files(wav_path):\n",
    "    wav_files = []\n",
    "    for (dirpath, dirnames, filenames) in os.walk(wav_path):\n",
    "        for filename in filenames:\n",
    "            if filename.endswith(\".wav\") or filename.endswith(\".WAV\"):\n",
    "                filename_path = os.path.join(dirpath, filename)\n",
    "                wav_files.append(filename_path)\n",
    "    return wav_files    \n",
    "\n",
    "def get_tran_texts(wav_files, tran_path):\n",
    "    tran_texts = []\n",
    "    for wav_file in wav_files:\n",
    "        basename = os.path.basename(wav_file)\n",
    "        x = os.path.splitext(basename)[0]\n",
    "        tran_file = os.path.join(tran_path,x+ '.txt') \n",
    "        if os.path.exists(tran_file) is False:\n",
    "            return None\n",
    "        fd = open(tran_file, 'r')\n",
    "        text = fd.readline()\n",
    "        tran_texts.append(text.split('\\n')[0])\n",
    "        fd.close()\n",
    "    return tran_texts  "
   ]
  },
  {
   "cell_type": "code",
   "execution_count": 10,
   "id": "f4ba1021",
   "metadata": {},
   "outputs": [
    {
     "name": "stdout",
     "output_type": "stream",
     "text": [
      "3120\n",
      "['tsu lang tsit e ka sing ti su kak hue a tui tsia e ku tshu pinn tsiann khuann bo tsiunn bak']\n"
     ]
    }
   ],
   "source": [
    "tran_path = \"/home/qiu/study_college/machine_learning/language/machine-learningntut-2021-autumn-asr/ML@NTUT-2021-Autumn-ASR/train/txt\"\n",
    "wav_files=get_wav_files('/home/qiu/study_college/machine_learning/language/machine-learningntut-2021-autumn-asr/ML@NTUT-2021-Autumn-ASR/')\n",
    "text_paths = glob.glob(\"/home/qiu/study_college/machine_learning/language/machine-learningntut-2021-autumn-asr/ML@NTUT-2021-Autumn-ASR/train/txt/*.txt\")\n",
    "\n",
    "total = len(text_paths)\n",
    "print(total)\n",
    "\n",
    "with open(text_paths[0], 'r', encoding='utf8') as fr:\n",
    "    lines = fr.readlines()\n",
    "    print(lines)\n",
    "\n",
    "\n",
    "\n",
    "\n"
   ]
  },
  {
   "cell_type": "code",
   "execution_count": 24,
   "id": "915b908d",
   "metadata": {},
   "outputs": [
    {
     "name": "stdout",
     "output_type": "stream",
     "text": [
      "/home/qiu/study_college/machine_learning/language/machine-learningntut-2021-autumn-asr/ML@NTUT-2021-Autumn-ASR/train/txt/607\n",
      "tsulangtsitekasingtisukakhueatuitsiaekutshupinntsiannkhuannbotsiunnbak\n"
     ]
    }
   ],
   "source": [
    "texts = []\n",
    "paths = []\n",
    "for path in text_paths:\n",
    "    with open(path, 'r', encoding='utf8') as fr:\n",
    "        lines = fr.readlines()\n",
    "        line = lines[0].strip('\\n').replace(' ', '')\n",
    "        texts.append(line)\n",
    "        paths.append(path.rstrip('.txt'))\n",
    "\n",
    "print(paths[0])\n",
    "print(texts[0])"
   ]
  },
  {
   "cell_type": "code",
   "execution_count": 4,
   "id": "a72258e5",
   "metadata": {},
   "outputs": [],
   "source": [
    "mfcc_dim =13\n",
    "\n",
    "def load_and_trim(path):\n",
    "    audio, sr =librosa.load(path)\n",
    "    energy = librosa.feature.rms(audio)\n",
    "    frames = np.nonzero(energy >= np.max(energy) /5)\n",
    "    indices = librosa.core.frames_to_samples(frames)[1]\n",
    "    audio = audio[indices[0]:indices[-1]] if indices.size else audio[0:0]\n",
    "    return audio,sr\n",
    "\n"
   ]
  },
  {
   "cell_type": "code",
   "execution_count": 5,
   "id": "a5691de3",
   "metadata": {
    "scrolled": true
   },
   "outputs": [
    {
     "name": "stderr",
     "output_type": "stream",
     "text": [
      "100%|██████████████████████████████████████| 3465/3465 [00:34<00:00, 101.42it/s]\n"
     ]
    }
   ],
   "source": [
    "features = []\n",
    "#path = '/home/qiu/study_college/machine_learning/language/machine-learningntut-2021-autumn-asr/ML@NTUT-2021-Autumn-ASR'\n",
    "for i in tqdm(range(len(wav_files))):\n",
    "              path = wav_files[i]\n",
    "              audio, sr = load_and_trim(path)\n",
    "              features.append(mfcc(audio, sr, numcep = mfcc_dim, nfft = 551))        "
   ]
  },
  {
   "cell_type": "code",
   "execution_count": 6,
   "id": "047d8d0e",
   "metadata": {},
   "outputs": [
    {
     "name": "stdout",
     "output_type": "stream",
     "text": [
      "3465 (268, 13)\n",
      "[ -5.8681931   -4.72109946  -5.52275753  -0.24856085  -3.05026703\n",
      " -14.8984433    3.56667929  -9.29962474  -6.92172377  -5.6696974\n",
      " -12.55942341  -9.43679756  -6.89503283]\n",
      "[ 3.85732868 16.56225518 19.45651653 18.88477054 16.02089822 18.28118594\n",
      " 14.70079112 15.10302198 15.15922073 13.70085596 13.42536165 11.86049294\n",
      " 11.85104071]\n"
     ]
    }
   ],
   "source": [
    "import random\n",
    "print(len(features), features[0].shape)\n",
    "\n",
    "samples = random.sample(features, 100)\n",
    "samples = np.vstack(samples)\n",
    "\n",
    "mfcc_mean = np.mean(samples, axis=0)\n",
    "mfcc_std = np.std(samples, axis=0)\n",
    "print(mfcc_mean)\n",
    "print(mfcc_std)\n",
    "\n",
    "features = [(feature - mfcc_mean) / (mfcc_std + 1e-14) for feature in features]\n",
    "\n"
   ]
  },
  {
   "cell_type": "code",
   "execution_count": 7,
   "id": "ef015e16",
   "metadata": {},
   "outputs": [
    {
     "name": "stdout",
     "output_type": "stream",
     "text": [
      "53 [' ', 'i', 'a', 'n', 't', 'h', 's', 'u', 'o', 'k', 'g', 'e', 'l', 'p', 'b', 'm', 'j', 'r', 'B', 'S', 'C', 'd', 'P', 'c', 'I', 'R', 'y', 'f', 'A', 'N', 'D', 'T', 'O', 'F', 'V', 'G', 'w', 'M', 'v', 'W', 'x', 'U', 'E', 'J', 'H', 'Y', 'z', 'q', 'L', 'Z', 'X', 'K', 'Q']\n"
     ]
    }
   ],
   "source": [
    "texts= get_tran_texts(wav_files, tran_path)\n",
    "\n",
    "chars = {}\n",
    "for text in texts:\n",
    "    for c in text:\n",
    "        chars[c] = chars.get(c, 0) + 1\n",
    "\n",
    "chars = sorted(chars.items(), key=lambda x: x[1], reverse=True)\n",
    "chars = [char[0] for char in chars]\n",
    "print(len(chars), chars[:100])\n",
    "\n",
    "char2id = {c: i for i, c in enumerate(chars)}\n",
    "id2char = {i: c for i, c in enumerate(chars)}\n",
    "\n"
   ]
  },
  {
   "cell_type": "code",
   "execution_count": 11,
   "id": "d5be1dec",
   "metadata": {},
   "outputs": [],
   "source": [
    "data_index = np.arange(total)\n",
    "np.random.shuffle(data_index)\n",
    "train_size = int(0.9 * total)\n",
    "test_size = total - train_size\n",
    "train_index = data_index[:train_size]\n",
    "test_index = data_index[train_size:]\n",
    "\n",
    "X_train = [features[i] for i in train_index]\n",
    "Y_train = [texts[i] for i in train_index]\n",
    "X_test = [features[i] for i in test_index]\n",
    "Y_test = [texts[i] for i in test_index]\n",
    "\n",
    "batch_size = 16\n",
    "    \n",
    "def batch_generator(x, y, batch_size=batch_size):  \n",
    "    offset = 0\n",
    "    while True:\n",
    "        offset += batch_size\n",
    "        \n",
    "        if offset == batch_size or offset >= len(x):\n",
    "            data_index = np.arange(len(x))\n",
    "            np.random.shuffle(data_index)\n",
    "            x = [x[i] for i in data_index]\n",
    "            y = [y[i] for i in data_index]\n",
    "            offset = batch_size\n",
    "            \n",
    "        X_data = x[offset - batch_size: offset]\n",
    "        Y_data = y[offset - batch_size: offset]\n",
    "        \n",
    "        X_maxlen = max([X_data[i].shape[0] for i in range(batch_size)])\n",
    "        Y_maxlen = max([len(Y_data[i]) for i in range(batch_size)])\n",
    "        \n",
    "        X_batch = np.zeros([batch_size, X_maxlen, mfcc_dim])\n",
    "        Y_batch = np.ones([batch_size, Y_maxlen]) * len(char2id)\n",
    "        X_length = np.zeros([batch_size, 1], dtype='int32')\n",
    "        Y_length = np.zeros([batch_size, 1], dtype='int32')\n",
    "        \n",
    "        for i in range(batch_size):\n",
    "            X_length[i, 0] = X_data[i].shape[0]\n",
    "            X_batch[i, :X_length[i, 0], :] = X_data[i]\n",
    "            \n",
    "            Y_length[i, 0] = len(Y_data[i])\n",
    "            Y_batch[i, :Y_length[i, 0]] = [char2id[c] for c in Y_data[i]]\n",
    "        \n",
    "        inputs = {'X': X_batch, 'Y': Y_batch, 'X_length': X_length, 'Y_length': Y_length}\n",
    "        outputs = {'ctc': np.zeros([batch_size])}\n",
    "        \n",
    "        yield (inputs, outputs)\n"
   ]
  },
  {
   "cell_type": "code",
   "execution_count": 73,
   "id": "69e61f56",
   "metadata": {
    "scrolled": false
   },
   "outputs": [
    {
     "name": "stderr",
     "output_type": "stream",
     "text": [
      "/tmp/ipykernel_27550/373979978.py:53: UserWarning: `Model.fit_generator` is deprecated and will be removed in a future version. Please use `Model.fit`, which supports generators.\n",
      "  history = model.fit_generator(\n"
     ]
    },
    {
     "name": "stdout",
     "output_type": "stream",
     "text": [
      "Epoch 1/25\n",
      "175/175 [==============================] - ETA: 0s - loss: 118.0103"
     ]
    },
    {
     "name": "stderr",
     "output_type": "stream",
     "text": [
      "/home/qiu/miniconda3/lib/python3.8/site-packages/keras/engine/functional.py:1410: CustomMaskWarning: Custom mask layers require a config and must override get_config. When loading, the custom mask layer must be passed to the custom_objects argument.\n",
      "  layer_config = serialize_layer_fn(layer)\n"
     ]
    },
    {
     "name": "stdout",
     "output_type": "stream",
     "text": [
      "175/175 [==============================] - 544s 3s/step - loss: 118.0103 - val_loss: 555.6667 - lr: 0.0200\n",
      "Epoch 2/25\n",
      "175/175 [==============================] - 511s 3s/step - loss: 46.2123 - val_loss: 246.7230 - lr: 0.0200\n",
      "Epoch 3/25\n",
      "175/175 [==============================] - 513s 3s/step - loss: 38.6502 - val_loss: 345.3475 - lr: 0.0200\n",
      "Epoch 4/25\n",
      "175/175 [==============================] - 518s 3s/step - loss: 34.0311 - val_loss: 64.5348 - lr: 0.0200\n",
      "Epoch 5/25\n",
      "175/175 [==============================] - 525s 3s/step - loss: 30.7257 - val_loss: 38.3510 - lr: 0.0200\n",
      "Epoch 6/25\n",
      "175/175 [==============================] - 509s 3s/step - loss: 27.8345 - val_loss: 38.8522 - lr: 0.0200\n",
      "Epoch 7/25\n",
      "175/175 [==============================] - 518s 3s/step - loss: 25.3939 - val_loss: 52.5750 - lr: 0.0200\n",
      "Epoch 8/25\n",
      "175/175 [==============================] - 484s 3s/step - loss: 22.5556 - val_loss: 46.2866 - lr: 0.0200\n",
      "Epoch 9/25\n",
      "175/175 [==============================] - 516s 3s/step - loss: 20.6504 - val_loss: 50.3948 - lr: 0.0200\n",
      "Epoch 10/25\n",
      "175/175 [==============================] - 512s 3s/step - loss: 18.9971 - val_loss: 44.7358 - lr: 0.0200\n",
      "Epoch 11/25\n",
      "175/175 [==============================] - 523s 3s/step - loss: 17.3065 - val_loss: 69.3207 - lr: 0.0200\n",
      "Epoch 12/25\n",
      "175/175 [==============================] - 511s 3s/step - loss: 15.2695 - val_loss: 43.5553 - lr: 0.0200\n",
      "Epoch 13/25\n",
      "175/175 [==============================] - 506s 3s/step - loss: 13.1167 - val_loss: 39.0723 - lr: 0.0200\n",
      "Epoch 14/25\n",
      "175/175 [==============================] - 516s 3s/step - loss: 11.5701 - val_loss: 74.7260 - lr: 0.0200\n",
      "Epoch 15/25\n",
      "175/175 [==============================] - 503s 3s/step - loss: 10.5730 - val_loss: 69.8431 - lr: 0.0200\n",
      "Epoch 16/25\n",
      "175/175 [==============================] - 516s 3s/step - loss: 9.8308 - val_loss: 39.8038 - lr: 0.0200\n",
      "Epoch 17/25\n",
      "175/175 [==============================] - 515s 3s/step - loss: 8.8820 - val_loss: 37.0286 - lr: 0.0200\n",
      "Epoch 18/25\n",
      "175/175 [==============================] - 513s 3s/step - loss: 7.1928 - val_loss: 45.9263 - lr: 0.0200\n",
      "Epoch 19/25\n",
      "175/175 [==============================] - 504s 3s/step - loss: 6.0012 - val_loss: 90.2933 - lr: 0.0200\n",
      "Epoch 20/25\n",
      "175/175 [==============================] - 506s 3s/step - loss: 6.0400 - val_loss: 41.9310 - lr: 0.0200\n",
      "Epoch 21/25\n",
      "175/175 [==============================] - 518s 3s/step - loss: 3.3324 - val_loss: 37.4485 - lr: 0.0040\n",
      "Epoch 22/25\n",
      "175/175 [==============================] - 505s 3s/step - loss: 1.3475 - val_loss: 40.9162 - lr: 0.0040\n",
      "Epoch 23/25\n",
      "175/175 [==============================] - 524s 3s/step - loss: 0.9171 - val_loss: 39.4450 - lr: 0.0040\n",
      "Epoch 24/25\n",
      "175/175 [==============================] - 537s 3s/step - loss: 0.6628 - val_loss: 39.9449 - lr: 0.0040\n",
      "Epoch 25/25\n",
      "175/175 [==============================] - 532s 3s/step - loss: 0.5377 - val_loss: 45.9627 - lr: 0.0040\n",
      "WARNING:tensorflow:Compiled the loaded model, but the compiled metrics have yet to be built. `model.compile_metrics` will be empty until you train or evaluate the model.\n"
     ]
    }
   ],
   "source": [
    "epochs = 25\n",
    "num_blocks = 3\n",
    "filters = 128\n",
    "\n",
    "X = Input(shape=(None, mfcc_dim,), dtype='float32', name='X')\n",
    "Y = Input(shape=(None,), dtype='float32', name='Y')\n",
    "X_length = Input(shape=(1,), dtype='int32', name='X_length')\n",
    "Y_length = Input(shape=(1,), dtype='int32', name='Y_length')\n",
    "\n",
    "def conv1d(inputs, filters, kernel_size, dilation_rate):\n",
    "    return Conv1D(filters=filters, kernel_size=kernel_size, strides=1, padding='causal', activation=None, dilation_rate=dilation_rate)(inputs)\n",
    "\n",
    "def batchnorm(inputs):\n",
    "    return BatchNormalization()(inputs)\n",
    "\n",
    "def activation(inputs, activation):\n",
    "    return Activation(activation)(inputs)\n",
    "\n",
    "def res_block(inputs, filters, kernel_size, dilation_rate):\n",
    "    hf = activation(batchnorm(conv1d(inputs, filters, kernel_size, dilation_rate)), 'tanh')\n",
    "    hg = activation(batchnorm(conv1d(inputs, filters, kernel_size, dilation_rate)), 'sigmoid')\n",
    "    h0 = Multiply()([hf, hg])\n",
    "    \n",
    "    ha = activation(batchnorm(conv1d(h0, filters, 1, 1)), 'tanh')\n",
    "    hs = activation(batchnorm(conv1d(h0, filters, 1, 1)), 'tanh')\n",
    "    \n",
    "    return Add()([ha, inputs]), hs\n",
    "\n",
    "h0 = activation(batchnorm(conv1d(X, filters, 1, 1)), 'tanh')\n",
    "shortcut = []\n",
    "for i in range(num_blocks):\n",
    "    for r in [1, 2, 4, 8, 16]:\n",
    "        h0, s = res_block(h0, filters, 7, r)\n",
    "        shortcut.append(s)\n",
    "\n",
    "h1 = activation(Add()(shortcut), 'relu')\n",
    "h1 = activation(batchnorm(conv1d(h1, filters, 1, 1)), 'relu')\n",
    "Y_pred = activation(batchnorm(conv1d(h1, len(char2id) + 1, 1, 1)), 'softmax')\n",
    "sub_model = Model(inputs=X, outputs=Y_pred)\n",
    "\n",
    "def calc_ctc_loss(args):\n",
    "    y, yp, ypl, yl = args\n",
    "    return K.ctc_batch_cost(y, yp, ypl, yl)\n",
    "\n",
    "ctc_loss = Lambda(calc_ctc_loss, output_shape=(1,), name='ctc')([Y, Y_pred, X_length, Y_length])\n",
    "model = Model(inputs=[X, Y, X_length, Y_length], outputs=ctc_loss)\n",
    "optimizer = SGD(lr=0.02, momentum=0.9, nesterov=True, clipnorm=5)\n",
    "model.compile(loss={'ctc': lambda ctc_true, ctc_pred: ctc_pred}, optimizer=optimizer)\n",
    "\n",
    "checkpointer = ModelCheckpoint(filepath='asr.h5', verbose=0)\n",
    "lr_decay = ReduceLROnPlateau(monitor='loss', factor=0.2, patience=1, min_lr=0.000)\n",
    "\n",
    "history = model.fit_generator(\n",
    "    generator=batch_generator(X_train, Y_train), \n",
    "    steps_per_epoch=len(X_train) // batch_size,\n",
    "    epochs=epochs, \n",
    "    validation_data=batch_generator(X_test, Y_test), \n",
    "    validation_steps=len(X_test) // batch_size, \n",
    "    callbacks=[checkpointer, lr_decay])\n",
    "sub_model.save('keras2.h5')epochs = 25\n",
    "num_blocks = 3\n",
    "filters = 128\n",
    "\n",
    "X = Input(shape=(None, mfcc_dim,), dtype='float32', name='X')\n",
    "Y = Input(shape=(None,), dtype='float32', name='Y')\n",
    "X_length = Input(shape=(1,), dtype='int32', name='X_length')\n",
    "Y_length = Input(shape=(1,), dtype='int32', name='Y_length')\n",
    "\n",
    "def conv1d(inputs, filters, kernel_size, dilation_rate):\n",
    "    return Conv1D(filters=filters, kernel_size=kernel_size, strides=1, padding='causal', activation=None, dilation_rate=dilation_rate)(inputs)\n",
    "\n",
    "def batchnorm(inputs):\n",
    "    return BatchNormalization()(inputs)\n",
    "\n",
    "def activation(inputs, activation):\n",
    "    return Activation(activation)(inputs)\n",
    "\n",
    "def res_block(inputs, filters, kernel_size, dilation_rate):\n",
    "    hf = activation(batchnorm(conv1d(inputs, filters, kernel_size, dilation_rate)), 'tanh')\n",
    "    hg = activation(batchnorm(conv1d(inputs, filters, kernel_size, dilation_rate)), 'sigmoid')\n",
    "    h0 = Multiply()([hf, hg])\n",
    "    \n",
    "    ha = activation(batchnorm(conv1d(h0, filters, 1, 1)), 'tanh')\n",
    "    hs = activation(batchnorm(conv1d(h0, filters, 1, 1)), 'tanh')\n",
    "    \n",
    "    return Add()([ha, inputs]), hs\n",
    "\n",
    "h0 = activation(batchnorm(conv1d(X, filters, 1, 1)), 'tanh')\n",
    "shortcut = []\n",
    "for i in range(num_blocks):\n",
    "    for r in [1, 2, 4, 8, 16]:\n",
    "        h0, s = res_block(h0, filters, 7, r)\n",
    "        shortcut.append(s)\n",
    "\n",
    "h1 = activation(Add()(shortcut), 'relu')\n",
    "h1 = activation(batchnorm(conv1d(h1, filters, 1, 1)), 'relu')\n",
    "Y_pred = activation(batchnorm(conv1d(h1, len(char2id) + 1, 1, 1)), 'softmax')\n",
    "sub_model = Model(inputs=X, outputs=Y_pred)\n",
    "\n",
    "def calc_ctc_loss(args):\n",
    "    y, yp, ypl, yl = args\n",
    "    return K.ctc_batch_cost(y, yp, ypl, yl)\n",
    "\n",
    "ctc_loss = Lambda(calc_ctc_loss, output_shape=(1,), name='ctc')([Y, Y_pred, X_length, Y_length])\n",
    "model = Model(inputs=[X, Y, X_length, Y_length], outputs=ctc_loss)\n",
    "optimizer = SGD(lr=0.02, momentum=0.9, nesterov=True, clipnorm=5)\n",
    "model.compile(loss={'ctc': lambda ctc_true, ctc_pred: ctc_pred}, optimizer=optimizer)\n",
    "\n",
    "checkpointer = ModelCheckpoint(filepath='asr.h5', verbose=0)\n",
    "lr_decay = ReduceLROnPlateau(monitor='loss', factor=0.2, patience=1, min_lr=0.000)\n",
    "\n",
    "history = model.fit_generator(\n",
    "    generator=batch_generator(X_train, Y_train), \n",
    "    steps_per_epoch=len(X_train) // batch_size,\n",
    "    epochs=epochs, \n",
    "    validation_data=batch_generator(X_test, Y_test), \n",
    "    validation_steps=len(X_test) // batch_size, \n",
    "    callbacks=[checkpointer, lr_decay])\n",
    "sub_model.save('keras2.h5')\n"
   ]
  },
  {
   "cell_type": "code",
   "execution_count": 74,
   "id": "eed9a70b",
   "metadata": {},
   "outputs": [
    {
     "data": {
      "image/png": "[encoded data removed]",
      "text/plain": [
       "<Figure size 432x288 with 1 Axes>"
      ]
     },
     "metadata": {
      "needs_background": "light"
     },
     "output_type": "display_data"
    }
   ],
   "source": [
    "with open('dictionary.pkl', 'wb') as fw:\n",
    "    pickle.dump([char2id, id2char, mfcc_mean, mfcc_std], fw)\n",
    "    \n",
    "train_loss = history.history['loss']\n",
    "valid_loss = history.history['val_loss']\n",
    "plt.plot(np.linspace(1, epochs, epochs), train_loss, label='train')\n",
    "plt.plot(np.linspace(1, epochs, epochs), valid_loss, label='valid')\n",
    "plt.legend(loc='upper right')\n",
    "plt.xlabel('Epoch')\n",
    "plt.ylabel('Loss')\n",
    "plt.show()\n",
    "\n",
    "  "
   ]
  },
  {
   "cell_type": "code",
   "execution_count": 41,
   "id": "269df76a",
   "metadata": {},
   "outputs": [
    {
     "name": "stdout",
     "output_type": "stream",
     "text": [
      "['/home/qiu/study_college/machine_learning/language/machine-learningntut-2021-autumn-asr/ML@NTUT-2021-Autumn-ASR/test-shuf/265.wav', '/home/qiu/study_college/machine_learning/language/machine-learningntut-2021-autumn-asr/ML@NTUT-2021-Autumn-ASR/test-shuf/330.wav', '/home/qiu/study_college/machine_learning/language/machine-learningntut-2021-autumn-asr/ML@NTUT-2021-Autumn-ASR/test-shuf/186.wav', '/home/qiu/study_college/machine_learning/language/machine-learningntut-2021-autumn-asr/ML@NTUT-2021-Autumn-ASR/test-shuf/343.wav', '/home/qiu/study_college/machine_learning/language/machine-learningntut-2021-autumn-asr/ML@NTUT-2021-Autumn-ASR/test-shuf/268.wav', '/home/qiu/study_college/machine_learning/language/machine-learningntut-2021-autumn-asr/ML@NTUT-2021-Autumn-ASR/test-shuf/326.wav', '/home/qiu/study_college/machine_learning/language/machine-learningntut-2021-autumn-asr/ML@NTUT-2021-Autumn-ASR/test-shuf/55.wav', '/home/qiu/study_college/machine_learning/language/machine-learningntut-2021-autumn-asr/ML@NTUT-2021-Autumn-ASR/test-shuf/104.wav', '/home/qiu/study_college/machine_learning/language/machine-learningntut-2021-autumn-asr/ML@NTUT-2021-Autumn-ASR/test-shuf/116.wav', '/home/qiu/study_college/machine_learning/language/machine-learningntut-2021-autumn-asr/ML@NTUT-2021-Autumn-ASR/test-shuf/22.wav', '/home/qiu/study_college/machine_learning/language/machine-learningntut-2021-autumn-asr/ML@NTUT-2021-Autumn-ASR/test-shuf/70.wav', '/home/qiu/study_college/machine_learning/language/machine-learningntut-2021-autumn-asr/ML@NTUT-2021-Autumn-ASR/test-shuf/232.wav', '/home/qiu/study_college/machine_learning/language/machine-learningntut-2021-autumn-asr/ML@NTUT-2021-Autumn-ASR/test-shuf/112.wav', '/home/qiu/study_college/machine_learning/language/machine-learningntut-2021-autumn-asr/ML@NTUT-2021-Autumn-ASR/test-shuf/53.wav', '/home/qiu/study_college/machine_learning/language/machine-learningntut-2021-autumn-asr/ML@NTUT-2021-Autumn-ASR/test-shuf/45.wav', '/home/qiu/study_college/machine_learning/language/machine-learningntut-2021-autumn-asr/ML@NTUT-2021-Autumn-ASR/test-shuf/109.wav', '/home/qiu/study_college/machine_learning/language/machine-learningntut-2021-autumn-asr/ML@NTUT-2021-Autumn-ASR/test-shuf/118.wav', '/home/qiu/study_college/machine_learning/language/machine-learningntut-2021-autumn-asr/ML@NTUT-2021-Autumn-ASR/test-shuf/226.wav', '/home/qiu/study_college/machine_learning/language/machine-learningntut-2021-autumn-asr/ML@NTUT-2021-Autumn-ASR/test-shuf/308.wav', '/home/qiu/study_college/machine_learning/language/machine-learningntut-2021-autumn-asr/ML@NTUT-2021-Autumn-ASR/test-shuf/160.wav', '/home/qiu/study_college/machine_learning/language/machine-learningntut-2021-autumn-asr/ML@NTUT-2021-Autumn-ASR/test-shuf/46.wav', '/home/qiu/study_college/machine_learning/language/machine-learningntut-2021-autumn-asr/ML@NTUT-2021-Autumn-ASR/test-shuf/192.wav', '/home/qiu/study_college/machine_learning/language/machine-learningntut-2021-autumn-asr/ML@NTUT-2021-Autumn-ASR/test-shuf/122.wav', '/home/qiu/study_college/machine_learning/language/machine-learningntut-2021-autumn-asr/ML@NTUT-2021-Autumn-ASR/test-shuf/110.wav', '/home/qiu/study_college/machine_learning/language/machine-learningntut-2021-autumn-asr/ML@NTUT-2021-Autumn-ASR/test-shuf/9.wav', '/home/qiu/study_college/machine_learning/language/machine-learningntut-2021-autumn-asr/ML@NTUT-2021-Autumn-ASR/test-shuf/307.wav', '/home/qiu/study_college/machine_learning/language/machine-learningntut-2021-autumn-asr/ML@NTUT-2021-Autumn-ASR/test-shuf/240.wav', '/home/qiu/study_college/machine_learning/language/machine-learningntut-2021-autumn-asr/ML@NTUT-2021-Autumn-ASR/test-shuf/82.wav', '/home/qiu/study_college/machine_learning/language/machine-learningntut-2021-autumn-asr/ML@NTUT-2021-Autumn-ASR/test-shuf/180.wav', '/home/qiu/study_college/machine_learning/language/machine-learningntut-2021-autumn-asr/ML@NTUT-2021-Autumn-ASR/test-shuf/222.wav', '/home/qiu/study_college/machine_learning/language/machine-learningntut-2021-autumn-asr/ML@NTUT-2021-Autumn-ASR/test-shuf/151.wav', '/home/qiu/study_college/machine_learning/language/machine-learningntut-2021-autumn-asr/ML@NTUT-2021-Autumn-ASR/test-shuf/34.wav', '/home/qiu/study_college/machine_learning/language/machine-learningntut-2021-autumn-asr/ML@NTUT-2021-Autumn-ASR/test-shuf/319.wav', '/home/qiu/study_college/machine_learning/language/machine-learningntut-2021-autumn-asr/ML@NTUT-2021-Autumn-ASR/test-shuf/188.wav', '/home/qiu/study_college/machine_learning/language/machine-learningntut-2021-autumn-asr/ML@NTUT-2021-Autumn-ASR/test-shuf/212.wav', '/home/qiu/study_college/machine_learning/language/machine-learningntut-2021-autumn-asr/ML@NTUT-2021-Autumn-ASR/test-shuf/215.wav', '/home/qiu/study_college/machine_learning/language/machine-learningntut-2021-autumn-asr/ML@NTUT-2021-Autumn-ASR/test-shuf/47.wav', '/home/qiu/study_college/machine_learning/language/machine-learningntut-2021-autumn-asr/ML@NTUT-2021-Autumn-ASR/test-shuf/103.wav', '/home/qiu/study_college/machine_learning/language/machine-learningntut-2021-autumn-asr/ML@NTUT-2021-Autumn-ASR/test-shuf/26.wav', '/home/qiu/study_college/machine_learning/language/machine-learningntut-2021-autumn-asr/ML@NTUT-2021-Autumn-ASR/test-shuf/168.wav', '/home/qiu/study_college/machine_learning/language/machine-learningntut-2021-autumn-asr/ML@NTUT-2021-Autumn-ASR/test-shuf/227.wav', '/home/qiu/study_college/machine_learning/language/machine-learningntut-2021-autumn-asr/ML@NTUT-2021-Autumn-ASR/test-shuf/282.wav', '/home/qiu/study_college/machine_learning/language/machine-learningntut-2021-autumn-asr/ML@NTUT-2021-Autumn-ASR/test-shuf/125.wav', '/home/qiu/study_college/machine_learning/language/machine-learningntut-2021-autumn-asr/ML@NTUT-2021-Autumn-ASR/test-shuf/86.wav', '/home/qiu/study_college/machine_learning/language/machine-learningntut-2021-autumn-asr/ML@NTUT-2021-Autumn-ASR/test-shuf/79.wav', '/home/qiu/study_college/machine_learning/language/machine-learningntut-2021-autumn-asr/ML@NTUT-2021-Autumn-ASR/test-shuf/77.wav', '/home/qiu/study_college/machine_learning/language/machine-learningntut-2021-autumn-asr/ML@NTUT-2021-Autumn-ASR/test-shuf/176.wav', '/home/qiu/study_college/machine_learning/language/machine-learningntut-2021-autumn-asr/ML@NTUT-2021-Autumn-ASR/test-shuf/309.wav', '/home/qiu/study_college/machine_learning/language/machine-learningntut-2021-autumn-asr/ML@NTUT-2021-Autumn-ASR/test-shuf/317.wav', '/home/qiu/study_college/machine_learning/language/machine-learningntut-2021-autumn-asr/ML@NTUT-2021-Autumn-ASR/test-shuf/202.wav', '/home/qiu/study_college/machine_learning/language/machine-learningntut-2021-autumn-asr/ML@NTUT-2021-Autumn-ASR/test-shuf/120.wav', '/home/qiu/study_college/machine_learning/language/machine-learningntut-2021-autumn-asr/ML@NTUT-2021-Autumn-ASR/test-shuf/59.wav', '/home/qiu/study_college/machine_learning/language/machine-learningntut-2021-autumn-asr/ML@NTUT-2021-Autumn-ASR/test-shuf/25.wav', '/home/qiu/study_college/machine_learning/language/machine-learningntut-2021-autumn-asr/ML@NTUT-2021-Autumn-ASR/test-shuf/253.wav', '/home/qiu/study_college/machine_learning/language/machine-learningntut-2021-autumn-asr/ML@NTUT-2021-Autumn-ASR/test-shuf/114.wav', '/home/qiu/study_college/machine_learning/language/machine-learningntut-2021-autumn-asr/ML@NTUT-2021-Autumn-ASR/test-shuf/21.wav', '/home/qiu/study_college/machine_learning/language/machine-learningntut-2021-autumn-asr/ML@NTUT-2021-Autumn-ASR/test-shuf/225.wav', '/home/qiu/study_college/machine_learning/language/machine-learningntut-2021-autumn-asr/ML@NTUT-2021-Autumn-ASR/test-shuf/88.wav', '/home/qiu/study_college/machine_learning/language/machine-learningntut-2021-autumn-asr/ML@NTUT-2021-Autumn-ASR/test-shuf/325.wav', '/home/qiu/study_college/machine_learning/language/machine-learningntut-2021-autumn-asr/ML@NTUT-2021-Autumn-ASR/test-shuf/304.wav', '/home/qiu/study_college/machine_learning/language/machine-learningntut-2021-autumn-asr/ML@NTUT-2021-Autumn-ASR/test-shuf/119.wav', '/home/qiu/study_college/machine_learning/language/machine-learningntut-2021-autumn-asr/ML@NTUT-2021-Autumn-ASR/test-shuf/179.wav', '/home/qiu/study_college/machine_learning/language/machine-learningntut-2021-autumn-asr/ML@NTUT-2021-Autumn-ASR/test-shuf/292.wav', '/home/qiu/study_college/machine_learning/language/machine-learningntut-2021-autumn-asr/ML@NTUT-2021-Autumn-ASR/test-shuf/111.wav', '/home/qiu/study_college/machine_learning/language/machine-learningntut-2021-autumn-asr/ML@NTUT-2021-Autumn-ASR/test-shuf/255.wav', '/home/qiu/study_college/machine_learning/language/machine-learningntut-2021-autumn-asr/ML@NTUT-2021-Autumn-ASR/test-shuf/145.wav', '/home/qiu/study_college/machine_learning/language/machine-learningntut-2021-autumn-asr/ML@NTUT-2021-Autumn-ASR/test-shuf/135.wav', '/home/qiu/study_college/machine_learning/language/machine-learningntut-2021-autumn-asr/ML@NTUT-2021-Autumn-ASR/test-shuf/331.wav', '/home/qiu/study_college/machine_learning/language/machine-learningntut-2021-autumn-asr/ML@NTUT-2021-Autumn-ASR/test-shuf/264.wav', '/home/qiu/study_college/machine_learning/language/machine-learningntut-2021-autumn-asr/ML@NTUT-2021-Autumn-ASR/test-shuf/35.wav', '/home/qiu/study_college/machine_learning/language/machine-learningntut-2021-autumn-asr/ML@NTUT-2021-Autumn-ASR/test-shuf/321.wav', '/home/qiu/study_college/machine_learning/language/machine-learningntut-2021-autumn-asr/ML@NTUT-2021-Autumn-ASR/test-shuf/2.wav', '/home/qiu/study_college/machine_learning/language/machine-learningntut-2021-autumn-asr/ML@NTUT-2021-Autumn-ASR/test-shuf/324.wav', '/home/qiu/study_college/machine_learning/language/machine-learningntut-2021-autumn-asr/ML@NTUT-2021-Autumn-ASR/test-shuf/293.wav', '/home/qiu/study_college/machine_learning/language/machine-learningntut-2021-autumn-asr/ML@NTUT-2021-Autumn-ASR/test-shuf/134.wav', '/home/qiu/study_college/machine_learning/language/machine-learningntut-2021-autumn-asr/ML@NTUT-2021-Autumn-ASR/test-shuf/91.wav', '/home/qiu/study_college/machine_learning/language/machine-learningntut-2021-autumn-asr/ML@NTUT-2021-Autumn-ASR/test-shuf/207.wav', '/home/qiu/study_college/machine_learning/language/machine-learningntut-2021-autumn-asr/ML@NTUT-2021-Autumn-ASR/test-shuf/269.wav', '/home/qiu/study_college/machine_learning/language/machine-learningntut-2021-autumn-asr/ML@NTUT-2021-Autumn-ASR/test-shuf/214.wav', '/home/qiu/study_college/machine_learning/language/machine-learningntut-2021-autumn-asr/ML@NTUT-2021-Autumn-ASR/test-shuf/163.wav', '/home/qiu/study_college/machine_learning/language/machine-learningntut-2021-autumn-asr/ML@NTUT-2021-Autumn-ASR/test-shuf/287.wav', '/home/qiu/study_college/machine_learning/language/machine-learningntut-2021-autumn-asr/ML@NTUT-2021-Autumn-ASR/test-shuf/276.wav', '/home/qiu/study_college/machine_learning/language/machine-learningntut-2021-autumn-asr/ML@NTUT-2021-Autumn-ASR/test-shuf/152.wav', '/home/qiu/study_college/machine_learning/language/machine-learningntut-2021-autumn-asr/ML@NTUT-2021-Autumn-ASR/test-shuf/252.wav', '/home/qiu/study_college/machine_learning/language/machine-learningntut-2021-autumn-asr/ML@NTUT-2021-Autumn-ASR/test-shuf/312.wav', '/home/qiu/study_college/machine_learning/language/machine-learningntut-2021-autumn-asr/ML@NTUT-2021-Autumn-ASR/test-shuf/131.wav', '/home/qiu/study_college/machine_learning/language/machine-learningntut-2021-autumn-asr/ML@NTUT-2021-Autumn-ASR/test-shuf/249.wav', '/home/qiu/study_college/machine_learning/language/machine-learningntut-2021-autumn-asr/ML@NTUT-2021-Autumn-ASR/test-shuf/191.wav', '/home/qiu/study_college/machine_learning/language/machine-learningntut-2021-autumn-asr/ML@NTUT-2021-Autumn-ASR/test-shuf/279.wav', '/home/qiu/study_college/machine_learning/language/machine-learningntut-2021-autumn-asr/ML@NTUT-2021-Autumn-ASR/test-shuf/329.wav', '/home/qiu/study_college/machine_learning/language/machine-learningntut-2021-autumn-asr/ML@NTUT-2021-Autumn-ASR/test-shuf/233.wav', '/home/qiu/study_college/machine_learning/language/machine-learningntut-2021-autumn-asr/ML@NTUT-2021-Autumn-ASR/test-shuf/346.wav', '/home/qiu/study_college/machine_learning/language/machine-learningntut-2021-autumn-asr/ML@NTUT-2021-Autumn-ASR/test-shuf/98.wav', '/home/qiu/study_college/machine_learning/language/machine-learningntut-2021-autumn-asr/ML@NTUT-2021-Autumn-ASR/test-shuf/241.wav', '/home/qiu/study_college/machine_learning/language/machine-learningntut-2021-autumn-asr/ML@NTUT-2021-Autumn-ASR/test-shuf/322.wav', '/home/qiu/study_college/machine_learning/language/machine-learningntut-2021-autumn-asr/ML@NTUT-2021-Autumn-ASR/test-shuf/159.wav', '/home/qiu/study_college/machine_learning/language/machine-learningntut-2021-autumn-asr/ML@NTUT-2021-Autumn-ASR/test-shuf/183.wav', '/home/qiu/study_college/machine_learning/language/machine-learningntut-2021-autumn-asr/ML@NTUT-2021-Autumn-ASR/test-shuf/297.wav', '/home/qiu/study_college/machine_learning/language/machine-learningntut-2021-autumn-asr/ML@NTUT-2021-Autumn-ASR/test-shuf/153.wav', '/home/qiu/study_college/machine_learning/language/machine-learningntut-2021-autumn-asr/ML@NTUT-2021-Autumn-ASR/test-shuf/256.wav', '/home/qiu/study_college/machine_learning/language/machine-learningntut-2021-autumn-asr/ML@NTUT-2021-Autumn-ASR/test-shuf/258.wav', '/home/qiu/study_college/machine_learning/language/machine-learningntut-2021-autumn-asr/ML@NTUT-2021-Autumn-ASR/test-shuf/333.wav', '/home/qiu/study_college/machine_learning/language/machine-learningntut-2021-autumn-asr/ML@NTUT-2021-Autumn-ASR/test-shuf/11.wav', '/home/qiu/study_college/machine_learning/language/machine-learningntut-2021-autumn-asr/ML@NTUT-2021-Autumn-ASR/test-shuf/33.wav', '/home/qiu/study_college/machine_learning/language/machine-learningntut-2021-autumn-asr/ML@NTUT-2021-Autumn-ASR/test-shuf/271.wav', '/home/qiu/study_college/machine_learning/language/machine-learningntut-2021-autumn-asr/ML@NTUT-2021-Autumn-ASR/test-shuf/174.wav', '/home/qiu/study_college/machine_learning/language/machine-learningntut-2021-autumn-asr/ML@NTUT-2021-Autumn-ASR/test-shuf/87.wav', '/home/qiu/study_college/machine_learning/language/machine-learningntut-2021-autumn-asr/ML@NTUT-2021-Autumn-ASR/test-shuf/294.wav', '/home/qiu/study_college/machine_learning/language/machine-learningntut-2021-autumn-asr/ML@NTUT-2021-Autumn-ASR/test-shuf/219.wav', '/home/qiu/study_college/machine_learning/language/machine-learningntut-2021-autumn-asr/ML@NTUT-2021-Autumn-ASR/test-shuf/290.wav', '/home/qiu/study_college/machine_learning/language/machine-learningntut-2021-autumn-asr/ML@NTUT-2021-Autumn-ASR/test-shuf/16.wav', '/home/qiu/study_college/machine_learning/language/machine-learningntut-2021-autumn-asr/ML@NTUT-2021-Autumn-ASR/test-shuf/281.wav', '/home/qiu/study_college/machine_learning/language/machine-learningntut-2021-autumn-asr/ML@NTUT-2021-Autumn-ASR/test-shuf/136.wav', '/home/qiu/study_college/machine_learning/language/machine-learningntut-2021-autumn-asr/ML@NTUT-2021-Autumn-ASR/test-shuf/337.wav', '/home/qiu/study_college/machine_learning/language/machine-learningntut-2021-autumn-asr/ML@NTUT-2021-Autumn-ASR/test-shuf/323.wav', '/home/qiu/study_college/machine_learning/language/machine-learningntut-2021-autumn-asr/ML@NTUT-2021-Autumn-ASR/test-shuf/32.wav', '/home/qiu/study_college/machine_learning/language/machine-learningntut-2021-autumn-asr/ML@NTUT-2021-Autumn-ASR/test-shuf/50.wav', '/home/qiu/study_college/machine_learning/language/machine-learningntut-2021-autumn-asr/ML@NTUT-2021-Autumn-ASR/test-shuf/216.wav', '/home/qiu/study_college/machine_learning/language/machine-learningntut-2021-autumn-asr/ML@NTUT-2021-Autumn-ASR/test-shuf/310.wav', '/home/qiu/study_college/machine_learning/language/machine-learningntut-2021-autumn-asr/ML@NTUT-2021-Autumn-ASR/test-shuf/102.wav', '/home/qiu/study_college/machine_learning/language/machine-learningntut-2021-autumn-asr/ML@NTUT-2021-Autumn-ASR/test-shuf/113.wav', '/home/qiu/study_college/machine_learning/language/machine-learningntut-2021-autumn-asr/ML@NTUT-2021-Autumn-ASR/test-shuf/243.wav', '/home/qiu/study_college/machine_learning/language/machine-learningntut-2021-autumn-asr/ML@NTUT-2021-Autumn-ASR/test-shuf/129.wav', '/home/qiu/study_college/machine_learning/language/machine-learningntut-2021-autumn-asr/ML@NTUT-2021-Autumn-ASR/test-shuf/247.wav', '/home/qiu/study_college/machine_learning/language/machine-learningntut-2021-autumn-asr/ML@NTUT-2021-Autumn-ASR/test-shuf/94.wav', '/home/qiu/study_college/machine_learning/language/machine-learningntut-2021-autumn-asr/ML@NTUT-2021-Autumn-ASR/test-shuf/154.wav', '/home/qiu/study_college/machine_learning/language/machine-learningntut-2021-autumn-asr/ML@NTUT-2021-Autumn-ASR/test-shuf/17.wav', '/home/qiu/study_college/machine_learning/language/machine-learningntut-2021-autumn-asr/ML@NTUT-2021-Autumn-ASR/test-shuf/328.wav', '/home/qiu/study_college/machine_learning/language/machine-learningntut-2021-autumn-asr/ML@NTUT-2021-Autumn-ASR/test-shuf/231.wav', '/home/qiu/study_college/machine_learning/language/machine-learningntut-2021-autumn-asr/ML@NTUT-2021-Autumn-ASR/test-shuf/85.wav', '/home/qiu/study_college/machine_learning/language/machine-learningntut-2021-autumn-asr/ML@NTUT-2021-Autumn-ASR/test-shuf/278.wav', '/home/qiu/study_college/machine_learning/language/machine-learningntut-2021-autumn-asr/ML@NTUT-2021-Autumn-ASR/test-shuf/74.wav', '/home/qiu/study_college/machine_learning/language/machine-learningntut-2021-autumn-asr/ML@NTUT-2021-Autumn-ASR/test-shuf/262.wav', '/home/qiu/study_college/machine_learning/language/machine-learningntut-2021-autumn-asr/ML@NTUT-2021-Autumn-ASR/test-shuf/313.wav', '/home/qiu/study_college/machine_learning/language/machine-learningntut-2021-autumn-asr/ML@NTUT-2021-Autumn-ASR/test-shuf/315.wav', '/home/qiu/study_college/machine_learning/language/machine-learningntut-2021-autumn-asr/ML@NTUT-2021-Autumn-ASR/test-shuf/140.wav', '/home/qiu/study_college/machine_learning/language/machine-learningntut-2021-autumn-asr/ML@NTUT-2021-Autumn-ASR/test-shuf/44.wav', '/home/qiu/study_college/machine_learning/language/machine-learningntut-2021-autumn-asr/ML@NTUT-2021-Autumn-ASR/test-shuf/56.wav', '/home/qiu/study_college/machine_learning/language/machine-learningntut-2021-autumn-asr/ML@NTUT-2021-Autumn-ASR/test-shuf/157.wav', '/home/qiu/study_college/machine_learning/language/machine-learningntut-2021-autumn-asr/ML@NTUT-2021-Autumn-ASR/test-shuf/40.wav', '/home/qiu/study_college/machine_learning/language/machine-learningntut-2021-autumn-asr/ML@NTUT-2021-Autumn-ASR/test-shuf/190.wav', '/home/qiu/study_college/machine_learning/language/machine-learningntut-2021-autumn-asr/ML@NTUT-2021-Autumn-ASR/test-shuf/314.wav', '/home/qiu/study_college/machine_learning/language/machine-learningntut-2021-autumn-asr/ML@NTUT-2021-Autumn-ASR/test-shuf/20.wav', '/home/qiu/study_college/machine_learning/language/machine-learningntut-2021-autumn-asr/ML@NTUT-2021-Autumn-ASR/test-shuf/318.wav', '/home/qiu/study_college/machine_learning/language/machine-learningntut-2021-autumn-asr/ML@NTUT-2021-Autumn-ASR/test-shuf/173.wav', '/home/qiu/study_college/machine_learning/language/machine-learningntut-2021-autumn-asr/ML@NTUT-2021-Autumn-ASR/test-shuf/177.wav', '/home/qiu/study_college/machine_learning/language/machine-learningntut-2021-autumn-asr/ML@NTUT-2021-Autumn-ASR/test-shuf/156.wav', '/home/qiu/study_college/machine_learning/language/machine-learningntut-2021-autumn-asr/ML@NTUT-2021-Autumn-ASR/test-shuf/139.wav', '/home/qiu/study_college/machine_learning/language/machine-learningntut-2021-autumn-asr/ML@NTUT-2021-Autumn-ASR/test-shuf/234.wav', '/home/qiu/study_college/machine_learning/language/machine-learningntut-2021-autumn-asr/ML@NTUT-2021-Autumn-ASR/test-shuf/218.wav', '/home/qiu/study_college/machine_learning/language/machine-learningntut-2021-autumn-asr/ML@NTUT-2021-Autumn-ASR/test-shuf/39.wav', '/home/qiu/study_college/machine_learning/language/machine-learningntut-2021-autumn-asr/ML@NTUT-2021-Autumn-ASR/test-shuf/272.wav', '/home/qiu/study_college/machine_learning/language/machine-learningntut-2021-autumn-asr/ML@NTUT-2021-Autumn-ASR/test-shuf/13.wav', '/home/qiu/study_college/machine_learning/language/machine-learningntut-2021-autumn-asr/ML@NTUT-2021-Autumn-ASR/test-shuf/62.wav', '/home/qiu/study_college/machine_learning/language/machine-learningntut-2021-autumn-asr/ML@NTUT-2021-Autumn-ASR/test-shuf/298.wav', '/home/qiu/study_college/machine_learning/language/machine-learningntut-2021-autumn-asr/ML@NTUT-2021-Autumn-ASR/test-shuf/80.wav', '/home/qiu/study_college/machine_learning/language/machine-learningntut-2021-autumn-asr/ML@NTUT-2021-Autumn-ASR/test-shuf/162.wav', '/home/qiu/study_college/machine_learning/language/machine-learningntut-2021-autumn-asr/ML@NTUT-2021-Autumn-ASR/test-shuf/90.wav', '/home/qiu/study_college/machine_learning/language/machine-learningntut-2021-autumn-asr/ML@NTUT-2021-Autumn-ASR/test-shuf/3.wav', '/home/qiu/study_college/machine_learning/language/machine-learningntut-2021-autumn-asr/ML@NTUT-2021-Autumn-ASR/test-shuf/257.wav', '/home/qiu/study_college/machine_learning/language/machine-learningntut-2021-autumn-asr/ML@NTUT-2021-Autumn-ASR/test-shuf/170.wav', '/home/qiu/study_college/machine_learning/language/machine-learningntut-2021-autumn-asr/ML@NTUT-2021-Autumn-ASR/test-shuf/261.wav', '/home/qiu/study_college/machine_learning/language/machine-learningntut-2021-autumn-asr/ML@NTUT-2021-Autumn-ASR/test-shuf/195.wav', '/home/qiu/study_college/machine_learning/language/machine-learningntut-2021-autumn-asr/ML@NTUT-2021-Autumn-ASR/test-shuf/303.wav', '/home/qiu/study_college/machine_learning/language/machine-learningntut-2021-autumn-asr/ML@NTUT-2021-Autumn-ASR/test-shuf/130.wav', '/home/qiu/study_college/machine_learning/language/machine-learningntut-2021-autumn-asr/ML@NTUT-2021-Autumn-ASR/test-shuf/69.wav', '/home/qiu/study_college/machine_learning/language/machine-learningntut-2021-autumn-asr/ML@NTUT-2021-Autumn-ASR/test-shuf/137.wav', '/home/qiu/study_college/machine_learning/language/machine-learningntut-2021-autumn-asr/ML@NTUT-2021-Autumn-ASR/test-shuf/12.wav', '/home/qiu/study_college/machine_learning/language/machine-learningntut-2021-autumn-asr/ML@NTUT-2021-Autumn-ASR/test-shuf/341.wav', '/home/qiu/study_college/machine_learning/language/machine-learningntut-2021-autumn-asr/ML@NTUT-2021-Autumn-ASR/test-shuf/246.wav', '/home/qiu/study_college/machine_learning/language/machine-learningntut-2021-autumn-asr/ML@NTUT-2021-Autumn-ASR/test-shuf/146.wav', '/home/qiu/study_college/machine_learning/language/machine-learningntut-2021-autumn-asr/ML@NTUT-2021-Autumn-ASR/test-shuf/150.wav', '/home/qiu/study_college/machine_learning/language/machine-learningntut-2021-autumn-asr/ML@NTUT-2021-Autumn-ASR/test-shuf/286.wav', '/home/qiu/study_college/machine_learning/language/machine-learningntut-2021-autumn-asr/ML@NTUT-2021-Autumn-ASR/test-shuf/148.wav', '/home/qiu/study_college/machine_learning/language/machine-learningntut-2021-autumn-asr/ML@NTUT-2021-Autumn-ASR/test-shuf/344.wav', '/home/qiu/study_college/machine_learning/language/machine-learningntut-2021-autumn-asr/ML@NTUT-2021-Autumn-ASR/test-shuf/189.wav', '/home/qiu/study_college/machine_learning/language/machine-learningntut-2021-autumn-asr/ML@NTUT-2021-Autumn-ASR/test-shuf/28.wav', '/home/qiu/study_college/machine_learning/language/machine-learningntut-2021-autumn-asr/ML@NTUT-2021-Autumn-ASR/test-shuf/237.wav', '/home/qiu/study_college/machine_learning/language/machine-learningntut-2021-autumn-asr/ML@NTUT-2021-Autumn-ASR/test-shuf/283.wav', '/home/qiu/study_college/machine_learning/language/machine-learningntut-2021-autumn-asr/ML@NTUT-2021-Autumn-ASR/test-shuf/335.wav', '/home/qiu/study_college/machine_learning/language/machine-learningntut-2021-autumn-asr/ML@NTUT-2021-Autumn-ASR/test-shuf/205.wav', '/home/qiu/study_college/machine_learning/language/machine-learningntut-2021-autumn-asr/ML@NTUT-2021-Autumn-ASR/test-shuf/60.wav', '/home/qiu/study_college/machine_learning/language/machine-learningntut-2021-autumn-asr/ML@NTUT-2021-Autumn-ASR/test-shuf/221.wav', '/home/qiu/study_college/machine_learning/language/machine-learningntut-2021-autumn-asr/ML@NTUT-2021-Autumn-ASR/test-shuf/185.wav', '/home/qiu/study_college/machine_learning/language/machine-learningntut-2021-autumn-asr/ML@NTUT-2021-Autumn-ASR/test-shuf/285.wav', '/home/qiu/study_college/machine_learning/language/machine-learningntut-2021-autumn-asr/ML@NTUT-2021-Autumn-ASR/test-shuf/339.wav', '/home/qiu/study_college/machine_learning/language/machine-learningntut-2021-autumn-asr/ML@NTUT-2021-Autumn-ASR/test-shuf/250.wav', '/home/qiu/study_college/machine_learning/language/machine-learningntut-2021-autumn-asr/ML@NTUT-2021-Autumn-ASR/test-shuf/126.wav', '/home/qiu/study_college/machine_learning/language/machine-learningntut-2021-autumn-asr/ML@NTUT-2021-Autumn-ASR/test-shuf/206.wav', '/home/qiu/study_college/machine_learning/language/machine-learningntut-2021-autumn-asr/ML@NTUT-2021-Autumn-ASR/test-shuf/200.wav', '/home/qiu/study_college/machine_learning/language/machine-learningntut-2021-autumn-asr/ML@NTUT-2021-Autumn-ASR/test-shuf/320.wav', '/home/qiu/study_college/machine_learning/language/machine-learningntut-2021-autumn-asr/ML@NTUT-2021-Autumn-ASR/test-shuf/66.wav', '/home/qiu/study_college/machine_learning/language/machine-learningntut-2021-autumn-asr/ML@NTUT-2021-Autumn-ASR/test-shuf/10.wav', '/home/qiu/study_college/machine_learning/language/machine-learningntut-2021-autumn-asr/ML@NTUT-2021-Autumn-ASR/test-shuf/65.wav', '/home/qiu/study_college/machine_learning/language/machine-learningntut-2021-autumn-asr/ML@NTUT-2021-Autumn-ASR/test-shuf/236.wav', '/home/qiu/study_college/machine_learning/language/machine-learningntut-2021-autumn-asr/ML@NTUT-2021-Autumn-ASR/test-shuf/5.wav', '/home/qiu/study_college/machine_learning/language/machine-learningntut-2021-autumn-asr/ML@NTUT-2021-Autumn-ASR/test-shuf/223.wav', '/home/qiu/study_college/machine_learning/language/machine-learningntut-2021-autumn-asr/ML@NTUT-2021-Autumn-ASR/test-shuf/230.wav', '/home/qiu/study_college/machine_learning/language/machine-learningntut-2021-autumn-asr/ML@NTUT-2021-Autumn-ASR/test-shuf/161.wav', '/home/qiu/study_college/machine_learning/language/machine-learningntut-2021-autumn-asr/ML@NTUT-2021-Autumn-ASR/test-shuf/133.wav', '/home/qiu/study_college/machine_learning/language/machine-learningntut-2021-autumn-asr/ML@NTUT-2021-Autumn-ASR/test-shuf/217.wav', '/home/qiu/study_college/machine_learning/language/machine-learningntut-2021-autumn-asr/ML@NTUT-2021-Autumn-ASR/test-shuf/93.wav', '/home/qiu/study_college/machine_learning/language/machine-learningntut-2021-autumn-asr/ML@NTUT-2021-Autumn-ASR/test-shuf/181.wav', '/home/qiu/study_college/machine_learning/language/machine-learningntut-2021-autumn-asr/ML@NTUT-2021-Autumn-ASR/test-shuf/302.wav', '/home/qiu/study_college/machine_learning/language/machine-learningntut-2021-autumn-asr/ML@NTUT-2021-Autumn-ASR/test-shuf/260.wav', '/home/qiu/study_college/machine_learning/language/machine-learningntut-2021-autumn-asr/ML@NTUT-2021-Autumn-ASR/test-shuf/67.wav', '/home/qiu/study_college/machine_learning/language/machine-learningntut-2021-autumn-asr/ML@NTUT-2021-Autumn-ASR/test-shuf/81.wav', '/home/qiu/study_college/machine_learning/language/machine-learningntut-2021-autumn-asr/ML@NTUT-2021-Autumn-ASR/test-shuf/211.wav', '/home/qiu/study_college/machine_learning/language/machine-learningntut-2021-autumn-asr/ML@NTUT-2021-Autumn-ASR/test-shuf/76.wav', '/home/qiu/study_college/machine_learning/language/machine-learningntut-2021-autumn-asr/ML@NTUT-2021-Autumn-ASR/test-shuf/178.wav', '/home/qiu/study_college/machine_learning/language/machine-learningntut-2021-autumn-asr/ML@NTUT-2021-Autumn-ASR/test-shuf/57.wav', '/home/qiu/study_college/machine_learning/language/machine-learningntut-2021-autumn-asr/ML@NTUT-2021-Autumn-ASR/test-shuf/58.wav', '/home/qiu/study_college/machine_learning/language/machine-learningntut-2021-autumn-asr/ML@NTUT-2021-Autumn-ASR/test-shuf/42.wav', '/home/qiu/study_college/machine_learning/language/machine-learningntut-2021-autumn-asr/ML@NTUT-2021-Autumn-ASR/test-shuf/164.wav', '/home/qiu/study_college/machine_learning/language/machine-learningntut-2021-autumn-asr/ML@NTUT-2021-Autumn-ASR/test-shuf/24.wav', '/home/qiu/study_college/machine_learning/language/machine-learningntut-2021-autumn-asr/ML@NTUT-2021-Autumn-ASR/test-shuf/235.wav', '/home/qiu/study_college/machine_learning/language/machine-learningntut-2021-autumn-asr/ML@NTUT-2021-Autumn-ASR/test-shuf/251.wav', '/home/qiu/study_college/machine_learning/language/machine-learningntut-2021-autumn-asr/ML@NTUT-2021-Autumn-ASR/test-shuf/239.wav', '/home/qiu/study_college/machine_learning/language/machine-learningntut-2021-autumn-asr/ML@NTUT-2021-Autumn-ASR/test-shuf/263.wav', '/home/qiu/study_college/machine_learning/language/machine-learningntut-2021-autumn-asr/ML@NTUT-2021-Autumn-ASR/test-shuf/274.wav', '/home/qiu/study_college/machine_learning/language/machine-learningntut-2021-autumn-asr/ML@NTUT-2021-Autumn-ASR/test-shuf/7.wav', '/home/qiu/study_college/machine_learning/language/machine-learningntut-2021-autumn-asr/ML@NTUT-2021-Autumn-ASR/test-shuf/61.wav', '/home/qiu/study_college/machine_learning/language/machine-learningntut-2021-autumn-asr/ML@NTUT-2021-Autumn-ASR/test-shuf/210.wav', '/home/qiu/study_college/machine_learning/language/machine-learningntut-2021-autumn-asr/ML@NTUT-2021-Autumn-ASR/test-shuf/38.wav', '/home/qiu/study_college/machine_learning/language/machine-learningntut-2021-autumn-asr/ML@NTUT-2021-Autumn-ASR/test-shuf/89.wav', '/home/qiu/study_college/machine_learning/language/machine-learningntut-2021-autumn-asr/ML@NTUT-2021-Autumn-ASR/test-shuf/175.wav', '/home/qiu/study_college/machine_learning/language/machine-learningntut-2021-autumn-asr/ML@NTUT-2021-Autumn-ASR/test-shuf/64.wav', '/home/qiu/study_college/machine_learning/language/machine-learningntut-2021-autumn-asr/ML@NTUT-2021-Autumn-ASR/test-shuf/124.wav', '/home/qiu/study_college/machine_learning/language/machine-learningntut-2021-autumn-asr/ML@NTUT-2021-Autumn-ASR/test-shuf/36.wav', '/home/qiu/study_college/machine_learning/language/machine-learningntut-2021-autumn-asr/ML@NTUT-2021-Autumn-ASR/test-shuf/199.wav', '/home/qiu/study_college/machine_learning/language/machine-learningntut-2021-autumn-asr/ML@NTUT-2021-Autumn-ASR/test-shuf/220.wav', '/home/qiu/study_college/machine_learning/language/machine-learningntut-2021-autumn-asr/ML@NTUT-2021-Autumn-ASR/test-shuf/8.wav', '/home/qiu/study_college/machine_learning/language/machine-learningntut-2021-autumn-asr/ML@NTUT-2021-Autumn-ASR/test-shuf/138.wav', '/home/qiu/study_college/machine_learning/language/machine-learningntut-2021-autumn-asr/ML@NTUT-2021-Autumn-ASR/test-shuf/141.wav', '/home/qiu/study_college/machine_learning/language/machine-learningntut-2021-autumn-asr/ML@NTUT-2021-Autumn-ASR/test-shuf/96.wav', '/home/qiu/study_college/machine_learning/language/machine-learningntut-2021-autumn-asr/ML@NTUT-2021-Autumn-ASR/test-shuf/29.wav', '/home/qiu/study_college/machine_learning/language/machine-learningntut-2021-autumn-asr/ML@NTUT-2021-Autumn-ASR/test-shuf/213.wav', '/home/qiu/study_college/machine_learning/language/machine-learningntut-2021-autumn-asr/ML@NTUT-2021-Autumn-ASR/test-shuf/149.wav', '/home/qiu/study_college/machine_learning/language/machine-learningntut-2021-autumn-asr/ML@NTUT-2021-Autumn-ASR/test-shuf/242.wav', '/home/qiu/study_college/machine_learning/language/machine-learningntut-2021-autumn-asr/ML@NTUT-2021-Autumn-ASR/test-shuf/275.wav', '/home/qiu/study_college/machine_learning/language/machine-learningntut-2021-autumn-asr/ML@NTUT-2021-Autumn-ASR/test-shuf/194.wav', '/home/qiu/study_college/machine_learning/language/machine-learningntut-2021-autumn-asr/ML@NTUT-2021-Autumn-ASR/test-shuf/245.wav', '/home/qiu/study_college/machine_learning/language/machine-learningntut-2021-autumn-asr/ML@NTUT-2021-Autumn-ASR/test-shuf/169.wav', '/home/qiu/study_college/machine_learning/language/machine-learningntut-2021-autumn-asr/ML@NTUT-2021-Autumn-ASR/test-shuf/49.wav', '/home/qiu/study_college/machine_learning/language/machine-learningntut-2021-autumn-asr/ML@NTUT-2021-Autumn-ASR/test-shuf/63.wav', '/home/qiu/study_college/machine_learning/language/machine-learningntut-2021-autumn-asr/ML@NTUT-2021-Autumn-ASR/test-shuf/75.wav', '/home/qiu/study_college/machine_learning/language/machine-learningntut-2021-autumn-asr/ML@NTUT-2021-Autumn-ASR/test-shuf/224.wav', '/home/qiu/study_college/machine_learning/language/machine-learningntut-2021-autumn-asr/ML@NTUT-2021-Autumn-ASR/test-shuf/291.wav', '/home/qiu/study_college/machine_learning/language/machine-learningntut-2021-autumn-asr/ML@NTUT-2021-Autumn-ASR/test-shuf/43.wav', '/home/qiu/study_college/machine_learning/language/machine-learningntut-2021-autumn-asr/ML@NTUT-2021-Autumn-ASR/test-shuf/107.wav', '/home/qiu/study_college/machine_learning/language/machine-learningntut-2021-autumn-asr/ML@NTUT-2021-Autumn-ASR/test-shuf/15.wav', '/home/qiu/study_college/machine_learning/language/machine-learningntut-2021-autumn-asr/ML@NTUT-2021-Autumn-ASR/test-shuf/280.wav', '/home/qiu/study_college/machine_learning/language/machine-learningntut-2021-autumn-asr/ML@NTUT-2021-Autumn-ASR/test-shuf/37.wav', '/home/qiu/study_college/machine_learning/language/machine-learningntut-2021-autumn-asr/ML@NTUT-2021-Autumn-ASR/test-shuf/115.wav', '/home/qiu/study_college/machine_learning/language/machine-learningntut-2021-autumn-asr/ML@NTUT-2021-Autumn-ASR/test-shuf/127.wav', '/home/qiu/study_college/machine_learning/language/machine-learningntut-2021-autumn-asr/ML@NTUT-2021-Autumn-ASR/test-shuf/248.wav', '/home/qiu/study_college/machine_learning/language/machine-learningntut-2021-autumn-asr/ML@NTUT-2021-Autumn-ASR/test-shuf/238.wav', '/home/qiu/study_college/machine_learning/language/machine-learningntut-2021-autumn-asr/ML@NTUT-2021-Autumn-ASR/test-shuf/193.wav', '/home/qiu/study_college/machine_learning/language/machine-learningntut-2021-autumn-asr/ML@NTUT-2021-Autumn-ASR/test-shuf/197.wav', '/home/qiu/study_college/machine_learning/language/machine-learningntut-2021-autumn-asr/ML@NTUT-2021-Autumn-ASR/test-shuf/244.wav', '/home/qiu/study_college/machine_learning/language/machine-learningntut-2021-autumn-asr/ML@NTUT-2021-Autumn-ASR/test-shuf/296.wav', '/home/qiu/study_college/machine_learning/language/machine-learningntut-2021-autumn-asr/ML@NTUT-2021-Autumn-ASR/test-shuf/41.wav', '/home/qiu/study_college/machine_learning/language/machine-learningntut-2021-autumn-asr/ML@NTUT-2021-Autumn-ASR/test-shuf/316.wav', '/home/qiu/study_college/machine_learning/language/machine-learningntut-2021-autumn-asr/ML@NTUT-2021-Autumn-ASR/test-shuf/1.wav', '/home/qiu/study_college/machine_learning/language/machine-learningntut-2021-autumn-asr/ML@NTUT-2021-Autumn-ASR/test-shuf/342.wav', '/home/qiu/study_college/machine_learning/language/machine-learningntut-2021-autumn-asr/ML@NTUT-2021-Autumn-ASR/test-shuf/78.wav', '/home/qiu/study_college/machine_learning/language/machine-learningntut-2021-autumn-asr/ML@NTUT-2021-Autumn-ASR/test-shuf/4.wav', '/home/qiu/study_college/machine_learning/language/machine-learningntut-2021-autumn-asr/ML@NTUT-2021-Autumn-ASR/test-shuf/273.wav', '/home/qiu/study_college/machine_learning/language/machine-learningntut-2021-autumn-asr/ML@NTUT-2021-Autumn-ASR/test-shuf/48.wav', '/home/qiu/study_college/machine_learning/language/machine-learningntut-2021-autumn-asr/ML@NTUT-2021-Autumn-ASR/test-shuf/101.wav', '/home/qiu/study_college/machine_learning/language/machine-learningntut-2021-autumn-asr/ML@NTUT-2021-Autumn-ASR/test-shuf/336.wav', '/home/qiu/study_college/machine_learning/language/machine-learningntut-2021-autumn-asr/ML@NTUT-2021-Autumn-ASR/test-shuf/30.wav', '/home/qiu/study_college/machine_learning/language/machine-learningntut-2021-autumn-asr/ML@NTUT-2021-Autumn-ASR/test-shuf/83.wav', '/home/qiu/study_college/machine_learning/language/machine-learningntut-2021-autumn-asr/ML@NTUT-2021-Autumn-ASR/test-shuf/270.wav', '/home/qiu/study_college/machine_learning/language/machine-learningntut-2021-autumn-asr/ML@NTUT-2021-Autumn-ASR/test-shuf/6.wav', '/home/qiu/study_college/machine_learning/language/machine-learningntut-2021-autumn-asr/ML@NTUT-2021-Autumn-ASR/test-shuf/158.wav', '/home/qiu/study_college/machine_learning/language/machine-learningntut-2021-autumn-asr/ML@NTUT-2021-Autumn-ASR/test-shuf/71.wav', '/home/qiu/study_college/machine_learning/language/machine-learningntut-2021-autumn-asr/ML@NTUT-2021-Autumn-ASR/test-shuf/288.wav', '/home/qiu/study_college/machine_learning/language/machine-learningntut-2021-autumn-asr/ML@NTUT-2021-Autumn-ASR/test-shuf/121.wav', '/home/qiu/study_college/machine_learning/language/machine-learningntut-2021-autumn-asr/ML@NTUT-2021-Autumn-ASR/test-shuf/295.wav', '/home/qiu/study_college/machine_learning/language/machine-learningntut-2021-autumn-asr/ML@NTUT-2021-Autumn-ASR/test-shuf/299.wav', '/home/qiu/study_college/machine_learning/language/machine-learningntut-2021-autumn-asr/ML@NTUT-2021-Autumn-ASR/test-shuf/165.wav', '/home/qiu/study_college/machine_learning/language/machine-learningntut-2021-autumn-asr/ML@NTUT-2021-Autumn-ASR/test-shuf/128.wav', '/home/qiu/study_college/machine_learning/language/machine-learningntut-2021-autumn-asr/ML@NTUT-2021-Autumn-ASR/test-shuf/99.wav', '/home/qiu/study_college/machine_learning/language/machine-learningntut-2021-autumn-asr/ML@NTUT-2021-Autumn-ASR/test-shuf/171.wav', '/home/qiu/study_college/machine_learning/language/machine-learningntut-2021-autumn-asr/ML@NTUT-2021-Autumn-ASR/test-shuf/155.wav', '/home/qiu/study_college/machine_learning/language/machine-learningntut-2021-autumn-asr/ML@NTUT-2021-Autumn-ASR/test-shuf/54.wav', '/home/qiu/study_college/machine_learning/language/machine-learningntut-2021-autumn-asr/ML@NTUT-2021-Autumn-ASR/test-shuf/147.wav', '/home/qiu/study_college/machine_learning/language/machine-learningntut-2021-autumn-asr/ML@NTUT-2021-Autumn-ASR/test-shuf/23.wav', '/home/qiu/study_college/machine_learning/language/machine-learningntut-2021-autumn-asr/ML@NTUT-2021-Autumn-ASR/test-shuf/301.wav', '/home/qiu/study_college/machine_learning/language/machine-learningntut-2021-autumn-asr/ML@NTUT-2021-Autumn-ASR/test-shuf/84.wav', '/home/qiu/study_college/machine_learning/language/machine-learningntut-2021-autumn-asr/ML@NTUT-2021-Autumn-ASR/test-shuf/95.wav', '/home/qiu/study_college/machine_learning/language/machine-learningntut-2021-autumn-asr/ML@NTUT-2021-Autumn-ASR/test-shuf/203.wav', '/home/qiu/study_college/machine_learning/language/machine-learningntut-2021-autumn-asr/ML@NTUT-2021-Autumn-ASR/test-shuf/92.wav', '/home/qiu/study_college/machine_learning/language/machine-learningntut-2021-autumn-asr/ML@NTUT-2021-Autumn-ASR/test-shuf/52.wav', '/home/qiu/study_college/machine_learning/language/machine-learningntut-2021-autumn-asr/ML@NTUT-2021-Autumn-ASR/test-shuf/100.wav', '/home/qiu/study_college/machine_learning/language/machine-learningntut-2021-autumn-asr/ML@NTUT-2021-Autumn-ASR/test-shuf/97.wav', '/home/qiu/study_college/machine_learning/language/machine-learningntut-2021-autumn-asr/ML@NTUT-2021-Autumn-ASR/test-shuf/106.wav', '/home/qiu/study_college/machine_learning/language/machine-learningntut-2021-autumn-asr/ML@NTUT-2021-Autumn-ASR/test-shuf/68.wav', '/home/qiu/study_college/machine_learning/language/machine-learningntut-2021-autumn-asr/ML@NTUT-2021-Autumn-ASR/test-shuf/123.wav', '/home/qiu/study_college/machine_learning/language/machine-learningntut-2021-autumn-asr/ML@NTUT-2021-Autumn-ASR/test-shuf/334.wav', '/home/qiu/study_college/machine_learning/language/machine-learningntut-2021-autumn-asr/ML@NTUT-2021-Autumn-ASR/test-shuf/182.wav', '/home/qiu/study_college/machine_learning/language/machine-learningntut-2021-autumn-asr/ML@NTUT-2021-Autumn-ASR/test-shuf/117.wav', '/home/qiu/study_college/machine_learning/language/machine-learningntut-2021-autumn-asr/ML@NTUT-2021-Autumn-ASR/test-shuf/196.wav', '/home/qiu/study_college/machine_learning/language/machine-learningntut-2021-autumn-asr/ML@NTUT-2021-Autumn-ASR/test-shuf/277.wav', '/home/qiu/study_college/machine_learning/language/machine-learningntut-2021-autumn-asr/ML@NTUT-2021-Autumn-ASR/test-shuf/284.wav', '/home/qiu/study_college/machine_learning/language/machine-learningntut-2021-autumn-asr/ML@NTUT-2021-Autumn-ASR/test-shuf/51.wav', '/home/qiu/study_college/machine_learning/language/machine-learningntut-2021-autumn-asr/ML@NTUT-2021-Autumn-ASR/test-shuf/108.wav', '/home/qiu/study_college/machine_learning/language/machine-learningntut-2021-autumn-asr/ML@NTUT-2021-Autumn-ASR/test-shuf/132.wav', '/home/qiu/study_college/machine_learning/language/machine-learningntut-2021-autumn-asr/ML@NTUT-2021-Autumn-ASR/test-shuf/266.wav', '/home/qiu/study_college/machine_learning/language/machine-learningntut-2021-autumn-asr/ML@NTUT-2021-Autumn-ASR/test-shuf/340.wav', '/home/qiu/study_college/machine_learning/language/machine-learningntut-2021-autumn-asr/ML@NTUT-2021-Autumn-ASR/test-shuf/267.wav', '/home/qiu/study_college/machine_learning/language/machine-learningntut-2021-autumn-asr/ML@NTUT-2021-Autumn-ASR/test-shuf/332.wav', '/home/qiu/study_college/machine_learning/language/machine-learningntut-2021-autumn-asr/ML@NTUT-2021-Autumn-ASR/test-shuf/142.wav', '/home/qiu/study_college/machine_learning/language/machine-learningntut-2021-autumn-asr/ML@NTUT-2021-Autumn-ASR/test-shuf/254.wav', '/home/qiu/study_college/machine_learning/language/machine-learningntut-2021-autumn-asr/ML@NTUT-2021-Autumn-ASR/test-shuf/19.wav', '/home/qiu/study_college/machine_learning/language/machine-learningntut-2021-autumn-asr/ML@NTUT-2021-Autumn-ASR/test-shuf/14.wav', '/home/qiu/study_college/machine_learning/language/machine-learningntut-2021-autumn-asr/ML@NTUT-2021-Autumn-ASR/test-shuf/73.wav', '/home/qiu/study_college/machine_learning/language/machine-learningntut-2021-autumn-asr/ML@NTUT-2021-Autumn-ASR/test-shuf/72.wav', '/home/qiu/study_college/machine_learning/language/machine-learningntut-2021-autumn-asr/ML@NTUT-2021-Autumn-ASR/test-shuf/311.wav', '/home/qiu/study_college/machine_learning/language/machine-learningntut-2021-autumn-asr/ML@NTUT-2021-Autumn-ASR/test-shuf/144.wav', '/home/qiu/study_college/machine_learning/language/machine-learningntut-2021-autumn-asr/ML@NTUT-2021-Autumn-ASR/test-shuf/184.wav', '/home/qiu/study_college/machine_learning/language/machine-learningntut-2021-autumn-asr/ML@NTUT-2021-Autumn-ASR/test-shuf/327.wav', '/home/qiu/study_college/machine_learning/language/machine-learningntut-2021-autumn-asr/ML@NTUT-2021-Autumn-ASR/test-shuf/31.wav', '/home/qiu/study_college/machine_learning/language/machine-learningntut-2021-autumn-asr/ML@NTUT-2021-Autumn-ASR/test-shuf/204.wav', '/home/qiu/study_college/machine_learning/language/machine-learningntut-2021-autumn-asr/ML@NTUT-2021-Autumn-ASR/test-shuf/201.wav', '/home/qiu/study_college/machine_learning/language/machine-learningntut-2021-autumn-asr/ML@NTUT-2021-Autumn-ASR/test-shuf/105.wav', '/home/qiu/study_college/machine_learning/language/machine-learningntut-2021-autumn-asr/ML@NTUT-2021-Autumn-ASR/test-shuf/306.wav', '/home/qiu/study_college/machine_learning/language/machine-learningntut-2021-autumn-asr/ML@NTUT-2021-Autumn-ASR/test-shuf/209.wav', '/home/qiu/study_college/machine_learning/language/machine-learningntut-2021-autumn-asr/ML@NTUT-2021-Autumn-ASR/test-shuf/228.wav', '/home/qiu/study_college/machine_learning/language/machine-learningntut-2021-autumn-asr/ML@NTUT-2021-Autumn-ASR/test-shuf/300.wav', '/home/qiu/study_college/machine_learning/language/machine-learningntut-2021-autumn-asr/ML@NTUT-2021-Autumn-ASR/test-shuf/166.wav', '/home/qiu/study_college/machine_learning/language/machine-learningntut-2021-autumn-asr/ML@NTUT-2021-Autumn-ASR/test-shuf/208.wav', '/home/qiu/study_college/machine_learning/language/machine-learningntut-2021-autumn-asr/ML@NTUT-2021-Autumn-ASR/test-shuf/167.wav', '/home/qiu/study_college/machine_learning/language/machine-learningntut-2021-autumn-asr/ML@NTUT-2021-Autumn-ASR/test-shuf/187.wav', '/home/qiu/study_college/machine_learning/language/machine-learningntut-2021-autumn-asr/ML@NTUT-2021-Autumn-ASR/test-shuf/259.wav', '/home/qiu/study_college/machine_learning/language/machine-learningntut-2021-autumn-asr/ML@NTUT-2021-Autumn-ASR/test-shuf/338.wav', '/home/qiu/study_college/machine_learning/language/machine-learningntut-2021-autumn-asr/ML@NTUT-2021-Autumn-ASR/test-shuf/18.wav', '/home/qiu/study_college/machine_learning/language/machine-learningntut-2021-autumn-asr/ML@NTUT-2021-Autumn-ASR/test-shuf/172.wav', '/home/qiu/study_college/machine_learning/language/machine-learningntut-2021-autumn-asr/ML@NTUT-2021-Autumn-ASR/test-shuf/27.wav', '/home/qiu/study_college/machine_learning/language/machine-learningntut-2021-autumn-asr/ML@NTUT-2021-Autumn-ASR/test-shuf/198.wav', '/home/qiu/study_college/machine_learning/language/machine-learningntut-2021-autumn-asr/ML@NTUT-2021-Autumn-ASR/test-shuf/305.wav', '/home/qiu/study_college/machine_learning/language/machine-learningntut-2021-autumn-asr/ML@NTUT-2021-Autumn-ASR/test-shuf/289.wav', '/home/qiu/study_college/machine_learning/language/machine-learningntut-2021-autumn-asr/ML@NTUT-2021-Autumn-ASR/test-shuf/143.wav', '/home/qiu/study_college/machine_learning/language/machine-learningntut-2021-autumn-asr/ML@NTUT-2021-Autumn-ASR/test-shuf/345.wav', '/home/qiu/study_college/machine_learning/language/machine-learningntut-2021-autumn-asr/ML@NTUT-2021-Autumn-ASR/test-shuf/229.wav']\n"
     ]
    }
   ],
   "source": [
    "# -*- coding: utf-8 -*-\n",
    "\n",
    "from keras.models import load_model\n",
    "from keras import backend as K\n",
    "import numpy as np\n",
    "import librosa\n",
    "from python_speech_features import mfcc\n",
    "import pickle\n",
    "import glob\n",
    "\n",
    "wavs = glob.glob('/home/qiu/study_college/machine_learning/language/machine-learningntut-2021-autumn-asr/ML@NTUT-2021-Autumn-ASR/test-shuf/*.wav')\n",
    "print(wavs)\n"
   ]
  },
  {
   "cell_type": "code",
   "execution_count": 78,
   "id": "c4748d0c",
   "metadata": {},
   "outputs": [],
   "source": [
    "with open('dictionary.pkl', 'rb') as fr:\n",
    "    [char2id, id2char, mfcc_mean, mfcc_std] = pickle.load(fr)\n",
    "mfcc_dim = 13\n",
    "\n",
    "\n",
    "model = load_model('keras2.h5', compile=False)\n"
   ]
  },
  {
   "cell_type": "code",
   "execution_count": 90,
   "id": "b046b665",
   "metadata": {
    "scrolled": false
   },
   "outputs": [
    {
     "name": "stdout",
     "output_type": "stream",
     "text": [
      "True transcription:\n",
      "--  gua na e long \n",
      "\n",
      "Predicted transcription:\n",
      "-- gua na e long \n",
      "\n",
      "True transcription:\n",
      "--  tse leh to ho \n",
      "\n",
      "Predicted transcription:\n",
      "-- tse le to ho \n",
      "\n"
     ]
    }
   ],
   "source": [
    "from keras.models import load_model\n",
    "import pickle\n",
    "\n",
    "with open('dictionary.pkl', 'rb') as fr:\n",
    "    [char2id, id2char, mfcc_mean, mfcc_std] = pickle.load(fr)\n",
    "\n",
    "sub_model = load_model('keras2.h5', compile=False)\n",
    "\n",
    "def random_predict(x, y):\n",
    "    index = np.random.randint(len(x))\n",
    "    feature = x[index]\n",
    "    text = y[index]\n",
    "    \n",
    "    pred = sub_model.predict(np.expand_dims(feature, axis=0))\n",
    "    pred_ids = K.eval(K.ctc_decode(pred, [feature.shape[0]], greedy=False, beam_width=10, top_paths=1)[0][0])\n",
    "    pred_ids = pred_ids.flatten().tolist()\n",
    "    while -1 in pred_ids:\n",
    "        pred_ids.remove(-1)\n",
    "\n",
    "    print('True transcription:\\n-- ', text, '\\n')\n",
    "    print('Predicted transcription:\\n-- ' + ''.join([id2char[i] for i in pred_ids]), '\\n')\n",
    "random_predict(X_train, Y_train)\n",
    "random_predict(X_test, Y_test)\n"
   ]
  },
  {
   "cell_type": "code",
   "execution_count": 147,
   "id": "536d72b5",
   "metadata": {},
   "outputs": [],
   "source": [
    "with open('predict.csv','w') as f:\n",
    "    f.write('id,text\\n')"
   ]
  },
  {
   "cell_type": "code",
   "execution_count": 155,
   "id": "f5e9885d",
   "metadata": {},
   "outputs": [],
   "source": [
    "# -*- coding: utf-8 -*-\n",
    "\n",
    "from keras.models import load_model\n",
    "from keras import backend as K\n",
    "import numpy as np\n",
    "import librosa\n",
    "from python_speech_features import mfcc\n",
    "import pickle\n",
    "import glob\n",
    "\n",
    "wavs = glob.glob('/home/qiu/study_college/machine_learning/language/machine-learningntut-2021-autumn-asr/ML@NTUT-2021-Autumn-ASR/test-shuf/*.wav')\n",
    "with open('dictionary.pkl', 'rb') as fr:\n",
    "    [char2id, id2char, mfcc_mean, mfcc_std] = pickle.load(fr)\n",
    "\n",
    "mfcc_dim = 13\n",
    "model = load_model('keras1.h5', compile=False)\n",
    "\n",
    "with open('predict2.csv','w') as f:\n",
    "    f.write('id,text\\n')\n",
    "    for j in range(1,347):\n",
    "        path1=['/home/qiu/study_college/machine_learning/language/machine-learningntut-2021-autumn-asr/ML@NTUT-2021-Autumn-ASR/test-shuf/',str(j),'.wav']\n",
    "        path=''.join(path1)\n",
    "        #print(path)\n",
    "        audio, sr=load_and_trim(path)\n",
    "        X_data = mfcc(audio, sr, numcep=mfcc_dim, nfft=551)\n",
    "        X_data = (X_data - mfcc_mean) / (mfcc_std + 1e-14)\n",
    "        #print(X_data.shape)\n",
    "\n",
    "        pred = model.predict(np.expand_dims(X_data, axis=0))\n",
    "        pred_ids = K.eval(K.ctc_decode(pred, [X_data.shape[0]], greedy=False, beam_width=10, top_paths=1)[0][0])\n",
    "        pred_ids = pred_ids.flatten().tolist()\n",
    "        while -1 in pred_ids:\n",
    "            pred_ids.remove(-1)\n",
    "        #print(''.join([id2char[i] for i in pred_ids]))\n",
    "        f.write(str(j) +  ',' + (''.join([id2char[i] for i in pred_ids])) + '\\n')"
   ]
  },
  {
   "cell_type": "code",
   "execution_count": null,
   "id": "2061369c",
   "metadata": {},
   "outputs": [],
   "source": []
  }
 ],
 "metadata": {
  "kernelspec": {
   "display_name": "Python 3 (ipykernel)",
   "language": "python",
   "name": "python3"
  },
  "language_info": {
   "codemirror_mode": {
    "name": "ipython",
    "version": 3
   },
   "file_extension": ".py",
   "mimetype": "text/x-python",
   "name": "python",
   "nbconvert_exporter": "python",
   "pygments_lexer": "ipython3",
   "version": "3.8.10"
  }
 },
 "nbformat": 4,
 "nbformat_minor": 5
}
